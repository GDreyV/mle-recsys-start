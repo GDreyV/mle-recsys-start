{
 "cells": [
  {
   "cell_type": "markdown",
   "id": "d6589084",
   "metadata": {},
   "source": [
    "# Подготовка"
   ]
  },
  {
   "cell_type": "markdown",
   "id": "b3589a9a-ce16-4d2e-b581-d75139fc58b3",
   "metadata": {},
   "source": [
    "## Initialization"
   ]
  },
  {
   "cell_type": "code",
   "execution_count": 1,
   "id": "c6e28b2f-3822-4e27-b576-9bc42b279b32",
   "metadata": {},
   "outputs": [],
   "source": [
    "import logging\n",
    "\n",
    "import matplotlib.pyplot as plt\n",
    "import numpy as np\n",
    "import pandas as pd"
   ]
  },
  {
   "cell_type": "code",
   "execution_count": 2,
   "id": "4e53bc65-3e32-454b-b353-e9b95489c26c",
   "metadata": {},
   "outputs": [],
   "source": [
    "%matplotlib inline\n",
    "%config InlineBackend.figure_format = 'png'\n",
    "%config InlineBackend.figure_format = 'retina'"
   ]
  },
  {
   "cell_type": "markdown",
   "id": "e8b1d982-8795-45c2-b221-6e5a07eaa150",
   "metadata": {},
   "source": [
    "## Загрузка данных"
   ]
  },
  {
   "cell_type": "code",
   "execution_count": 3,
   "id": "6ab0db85-17df-4a4f-b23c-e9cd983d8c43",
   "metadata": {},
   "outputs": [],
   "source": [
    "items = pd.read_parquet(\"./data/transformed/items.par\")\n",
    "events = pd.read_parquet(\"./data/transformed/events.par\")"
   ]
  },
  {
   "cell_type": "code",
   "execution_count": 4,
   "id": "30b60a75",
   "metadata": {},
   "outputs": [
    {
     "data": {
      "text/html": [
       "<div>\n",
       "<style scoped>\n",
       "    .dataframe tbody tr th:only-of-type {\n",
       "        vertical-align: middle;\n",
       "    }\n",
       "\n",
       "    .dataframe tbody tr th {\n",
       "        vertical-align: top;\n",
       "    }\n",
       "\n",
       "    .dataframe thead th {\n",
       "        text-align: right;\n",
       "    }\n",
       "</style>\n",
       "<table border=\"1\" class=\"dataframe\">\n",
       "  <thead>\n",
       "    <tr style=\"text-align: right;\">\n",
       "      <th></th>\n",
       "      <th>user_id</th>\n",
       "      <th>item_id</th>\n",
       "      <th>started_at</th>\n",
       "      <th>read_at</th>\n",
       "      <th>is_read</th>\n",
       "      <th>rating</th>\n",
       "      <th>is_reviewed</th>\n",
       "      <th>user_idx</th>\n",
       "    </tr>\n",
       "  </thead>\n",
       "  <tbody>\n",
       "    <tr>\n",
       "      <th>0</th>\n",
       "      <td>8842281e1d1347389f2ab93d60773d4d</td>\n",
       "      <td>22034</td>\n",
       "      <td>2015-07-12</td>\n",
       "      <td>2015-07-17</td>\n",
       "      <td>True</td>\n",
       "      <td>5</td>\n",
       "      <td>False</td>\n",
       "      <td>1229132</td>\n",
       "    </tr>\n",
       "    <tr>\n",
       "      <th>1</th>\n",
       "      <td>8842281e1d1347389f2ab93d60773d4d</td>\n",
       "      <td>22318578</td>\n",
       "      <td>2015-06-07</td>\n",
       "      <td>2015-08-09</td>\n",
       "      <td>True</td>\n",
       "      <td>5</td>\n",
       "      <td>True</td>\n",
       "      <td>1229132</td>\n",
       "    </tr>\n",
       "    <tr>\n",
       "      <th>2</th>\n",
       "      <td>8842281e1d1347389f2ab93d60773d4d</td>\n",
       "      <td>22551730</td>\n",
       "      <td>2015-06-24</td>\n",
       "      <td>2015-07-11</td>\n",
       "      <td>True</td>\n",
       "      <td>4</td>\n",
       "      <td>True</td>\n",
       "      <td>1229132</td>\n",
       "    </tr>\n",
       "    <tr>\n",
       "      <th>3</th>\n",
       "      <td>8842281e1d1347389f2ab93d60773d4d</td>\n",
       "      <td>22816087</td>\n",
       "      <td>2015-09-27</td>\n",
       "      <td>2015-11-04</td>\n",
       "      <td>True</td>\n",
       "      <td>5</td>\n",
       "      <td>True</td>\n",
       "      <td>1229132</td>\n",
       "    </tr>\n",
       "    <tr>\n",
       "      <th>5</th>\n",
       "      <td>8842281e1d1347389f2ab93d60773d4d</td>\n",
       "      <td>17910054</td>\n",
       "      <td>2015-03-04</td>\n",
       "      <td>2015-07-28</td>\n",
       "      <td>True</td>\n",
       "      <td>3</td>\n",
       "      <td>False</td>\n",
       "      <td>1229132</td>\n",
       "    </tr>\n",
       "  </tbody>\n",
       "</table>\n",
       "</div>"
      ],
      "text/plain": [
       "                            user_id   item_id  started_at     read_at  \\\n",
       "0  8842281e1d1347389f2ab93d60773d4d     22034  2015-07-12  2015-07-17   \n",
       "1  8842281e1d1347389f2ab93d60773d4d  22318578  2015-06-07  2015-08-09   \n",
       "2  8842281e1d1347389f2ab93d60773d4d  22551730  2015-06-24  2015-07-11   \n",
       "3  8842281e1d1347389f2ab93d60773d4d  22816087  2015-09-27  2015-11-04   \n",
       "5  8842281e1d1347389f2ab93d60773d4d  17910054  2015-03-04  2015-07-28   \n",
       "\n",
       "   is_read  rating  is_reviewed  user_idx  \n",
       "0     True       5        False   1229132  \n",
       "1     True       5         True   1229132  \n",
       "2     True       4         True   1229132  \n",
       "3     True       5         True   1229132  \n",
       "5     True       3        False   1229132  "
      ]
     },
     "execution_count": 4,
     "metadata": {},
     "output_type": "execute_result"
    }
   ],
   "source": [
    "events.head(5)"
   ]
  },
  {
   "cell_type": "markdown",
   "id": "f18f28dd-0371-4144-bf11-d077d44e8de0",
   "metadata": {},
   "source": [
    "## Разбиение с учётом хронологии"
   ]
  },
  {
   "cell_type": "markdown",
   "id": "47016708-6f94-4518-886c-58fa6e7bb315",
   "metadata": {},
   "source": [
    "Рекомендательные системы на практике работают с учётом хронологии. Поэтому поток событий для тренировки и валидации полезно делить на то, что уже случилось, и что ещё случится. Это позволяет проводить валидацию на тех же пользователях, на которых тренировались, но на их событиях в будущем."
   ]
  },
  {
   "cell_type": "code",
   "execution_count": 5,
   "id": "accfded6",
   "metadata": {},
   "outputs": [
    {
     "name": "stdout",
     "output_type": "stream",
     "text": [
      "428220 123223 120858\n"
     ]
    }
   ],
   "source": [
    "event_cutoff_date = pd.to_datetime(\"2017-08-01\").date()\n",
    "events_train = events.query(\"started_at < @event_cutoff_date\").copy()\n",
    "events_test = events.query(\"started_at >= @event_cutoff_date\").copy()\n",
    "users_train = set(events_train[\"user_id\"].unique())\n",
    "users_test = set(events_test[\"user_id\"].unique())\n",
    "common_users = set(users_train & users_test)\n",
    "print(len(users_train), len(users_test), len(common_users)) "
   ]
  },
  {
   "cell_type": "markdown",
   "id": "e8df5897-bbcd-4364-b5d3-ec7d1de6743a",
   "metadata": {},
   "source": [
    "# Знакомство: \"холодный\" старт"
   ]
  },
  {
   "cell_type": "code",
   "execution_count": 5,
   "id": "4cb94a23-8d1d-4025-908f-f290013fa429",
   "metadata": {},
   "outputs": [
    {
     "name": "stdout",
     "output_type": "stream",
     "text": [
      "2365\n"
     ]
    }
   ],
   "source": [
    "# cold users\n",
    "cold_users = set(users_test - users_train)\n",
    "print(len(cold_users))"
   ]
  },
  {
   "cell_type": "code",
   "execution_count": 6,
   "id": "6f94990b-65c8-43cc-88da-ebe6a12163b4",
   "metadata": {},
   "outputs": [
    {
     "data": {
      "text/html": [
       "<div>\n",
       "<style scoped>\n",
       "    .dataframe tbody tr th:only-of-type {\n",
       "        vertical-align: middle;\n",
       "    }\n",
       "\n",
       "    .dataframe tbody tr th {\n",
       "        vertical-align: top;\n",
       "    }\n",
       "\n",
       "    .dataframe thead th {\n",
       "        text-align: right;\n",
       "    }\n",
       "</style>\n",
       "<table border=\"1\" class=\"dataframe\">\n",
       "  <thead>\n",
       "    <tr style=\"text-align: right;\">\n",
       "      <th></th>\n",
       "      <th>item_id</th>\n",
       "      <th>users</th>\n",
       "      <th>avg_rating</th>\n",
       "      <th>users_norm</th>\n",
       "      <th>avg_rating_norm</th>\n",
       "      <th>popularity_score</th>\n",
       "    </tr>\n",
       "  </thead>\n",
       "  <tbody>\n",
       "    <tr>\n",
       "      <th>32387</th>\n",
       "      <td>18007564</td>\n",
       "      <td>20207</td>\n",
       "      <td>4.321275</td>\n",
       "      <td>0.496596</td>\n",
       "      <td>0.830319</td>\n",
       "      <td>0.412333</td>\n",
       "    </tr>\n",
       "    <tr>\n",
       "      <th>32623</th>\n",
       "      <td>18143977</td>\n",
       "      <td>19462</td>\n",
       "      <td>4.290669</td>\n",
       "      <td>0.478287</td>\n",
       "      <td>0.822667</td>\n",
       "      <td>0.393471</td>\n",
       "    </tr>\n",
       "    <tr>\n",
       "      <th>2</th>\n",
       "      <td>3</td>\n",
       "      <td>15139</td>\n",
       "      <td>4.706057</td>\n",
       "      <td>0.372042</td>\n",
       "      <td>0.926514</td>\n",
       "      <td>0.344702</td>\n",
       "    </tr>\n",
       "    <tr>\n",
       "      <th>30695</th>\n",
       "      <td>16096824</td>\n",
       "      <td>16770</td>\n",
       "      <td>4.301014</td>\n",
       "      <td>0.412126</td>\n",
       "      <td>0.825253</td>\n",
       "      <td>0.340108</td>\n",
       "    </tr>\n",
       "    <tr>\n",
       "      <th>1916</th>\n",
       "      <td>15881</td>\n",
       "      <td>13043</td>\n",
       "      <td>4.632447</td>\n",
       "      <td>0.320529</td>\n",
       "      <td>0.908112</td>\n",
       "      <td>0.291076</td>\n",
       "    </tr>\n",
       "  </tbody>\n",
       "</table>\n",
       "</div>"
      ],
      "text/plain": [
       "        item_id  users  avg_rating  users_norm  avg_rating_norm  \\\n",
       "32387  18007564  20207    4.321275    0.496596         0.830319   \n",
       "32623  18143977  19462    4.290669    0.478287         0.822667   \n",
       "2             3  15139    4.706057    0.372042         0.926514   \n",
       "30695  16096824  16770    4.301014    0.412126         0.825253   \n",
       "1916      15881  13043    4.632447    0.320529         0.908112   \n",
       "\n",
       "       popularity_score  \n",
       "32387          0.412333  \n",
       "32623          0.393471  \n",
       "2              0.344702  \n",
       "30695          0.340108  \n",
       "1916           0.291076  "
      ]
     },
     "execution_count": 6,
     "metadata": {},
     "output_type": "execute_result"
    }
   ],
   "source": [
    "from sklearn.preprocessing import MinMaxScaler\n",
    "\n",
    "top_pop_start_date = pd.to_datetime(\"2015-01-01\").date()\n",
    "\n",
    "item_popularity = events_train \\\n",
    "    .query(\"started_at >= @top_pop_start_date\") \\\n",
    "    .groupby([\"item_id\"]).agg(users=(\"user_id\", \"nunique\"), avg_rating=(\"rating\", \"mean\")).reset_index()\n",
    "\n",
    "# нормализация пользователей и среднего рейтинга, требуется для их приведения к одному масштабу\n",
    "scaler = MinMaxScaler()\n",
    "item_popularity[[\"users_norm\", \"avg_rating_norm\"]] = scaler.fit_transform(\n",
    "    item_popularity[[\"users\", \"avg_rating\"]]\n",
    ")\n",
    "\n",
    "# вычисляем popularity_score, как скор популярности со штрафом за низкий рейтинг\n",
    "item_popularity[\"popularity_score\"] = (\n",
    "    item_popularity[\"users_norm\"] * item_popularity[\"avg_rating_norm\"]\n",
    ")\n",
    "\n",
    "# сортируем по убыванию popularity_score\n",
    "item_popularity = item_popularity.sort_values(\"popularity_score\", ascending=False)\n",
    "\n",
    "# выбираем первые 100 айтемов со средней оценкой avg_rating не меньше 4\n",
    "top_k_pop_items = item_popularity.query(\"avg_rating >= 4\").head(100)\n",
    "top_k_pop_items.head()"
   ]
  },
  {
   "cell_type": "code",
   "execution_count": 7,
   "id": "d579dd23",
   "metadata": {},
   "outputs": [
    {
     "data": {
      "text/html": [
       "<div>\n",
       "<style scoped>\n",
       "    .dataframe tbody tr th:only-of-type {\n",
       "        vertical-align: middle;\n",
       "    }\n",
       "\n",
       "    .dataframe tbody tr th {\n",
       "        vertical-align: top;\n",
       "    }\n",
       "\n",
       "    .dataframe thead th {\n",
       "        text-align: right;\n",
       "    }\n",
       "</style>\n",
       "<table border=\"1\" class=\"dataframe\">\n",
       "  <thead>\n",
       "    <tr style=\"text-align: right;\">\n",
       "      <th></th>\n",
       "      <th>item_id</th>\n",
       "      <th>author</th>\n",
       "      <th>title</th>\n",
       "      <th>publication_year</th>\n",
       "      <th>users</th>\n",
       "      <th>avg_rating</th>\n",
       "      <th>popularity_score</th>\n",
       "      <th>genre_and_votes</th>\n",
       "    </tr>\n",
       "  </thead>\n",
       "  <tbody>\n",
       "    <tr>\n",
       "      <th>0</th>\n",
       "      <td>18007564</td>\n",
       "      <td>Andy Weir</td>\n",
       "      <td>The Martian</td>\n",
       "      <td>2014</td>\n",
       "      <td>20207</td>\n",
       "      <td>4.321275</td>\n",
       "      <td>0.412333</td>\n",
       "      <td>{'Science Fiction': 11966, 'Fiction': 8430}</td>\n",
       "    </tr>\n",
       "    <tr>\n",
       "      <th>1</th>\n",
       "      <td>18143977</td>\n",
       "      <td>Anthony Doerr</td>\n",
       "      <td>All the Light We Cannot See</td>\n",
       "      <td>2014</td>\n",
       "      <td>19462</td>\n",
       "      <td>4.290669</td>\n",
       "      <td>0.393471</td>\n",
       "      <td>{'Historical-Historical Fiction': 13679, 'Fict...</td>\n",
       "    </tr>\n",
       "    <tr>\n",
       "      <th>2</th>\n",
       "      <td>3</td>\n",
       "      <td>J.K. Rowling, Mary GrandPré</td>\n",
       "      <td>Harry Potter and the Sorcerer's Stone (Harry P...</td>\n",
       "      <td>1997</td>\n",
       "      <td>15139</td>\n",
       "      <td>4.706057</td>\n",
       "      <td>0.344702</td>\n",
       "      <td>{'Fantasy': 59818, 'Fiction': 17918, 'Young Ad...</td>\n",
       "    </tr>\n",
       "    <tr>\n",
       "      <th>3</th>\n",
       "      <td>16096824</td>\n",
       "      <td>Sarah J. Maas</td>\n",
       "      <td>A Court of Thorns and Roses (A Court of Thorns...</td>\n",
       "      <td>2015</td>\n",
       "      <td>16770</td>\n",
       "      <td>4.301014</td>\n",
       "      <td>0.340108</td>\n",
       "      <td>{'Fantasy': 14326, 'Young Adult': 4662, 'Roman...</td>\n",
       "    </tr>\n",
       "    <tr>\n",
       "      <th>4</th>\n",
       "      <td>15881</td>\n",
       "      <td>J.K. Rowling, Mary GrandPré</td>\n",
       "      <td>Harry Potter and the Chamber of Secrets (Harry...</td>\n",
       "      <td>1999</td>\n",
       "      <td>13043</td>\n",
       "      <td>4.632447</td>\n",
       "      <td>0.291076</td>\n",
       "      <td>{'Fantasy': 50130, 'Young Adult': 15202, 'Fict...</td>\n",
       "    </tr>\n",
       "    <tr>\n",
       "      <th>...</th>\n",
       "      <td>...</td>\n",
       "      <td>...</td>\n",
       "      <td>...</td>\n",
       "      <td>...</td>\n",
       "      <td>...</td>\n",
       "      <td>...</td>\n",
       "      <td>...</td>\n",
       "      <td>...</td>\n",
       "    </tr>\n",
       "    <tr>\n",
       "      <th>95</th>\n",
       "      <td>8490112</td>\n",
       "      <td>Laini Taylor</td>\n",
       "      <td>Daughter of Smoke &amp; Bone (Daughter of Smoke &amp; ...</td>\n",
       "      <td>2011</td>\n",
       "      <td>4792</td>\n",
       "      <td>4.080968</td>\n",
       "      <td>0.090694</td>\n",
       "      <td>{'Fantasy': 11681, 'Young Adult': 7110, 'Roman...</td>\n",
       "    </tr>\n",
       "    <tr>\n",
       "      <th>96</th>\n",
       "      <td>18966819</td>\n",
       "      <td>Pierce Brown</td>\n",
       "      <td>Golden Son (Red Rising, #2)</td>\n",
       "      <td>2015</td>\n",
       "      <td>4361</td>\n",
       "      <td>4.374914</td>\n",
       "      <td>0.090409</td>\n",
       "      <td>{'Science Fiction': 2613, 'Fantasy': 1372, 'Sc...</td>\n",
       "    </tr>\n",
       "    <tr>\n",
       "      <th>97</th>\n",
       "      <td>3636</td>\n",
       "      <td>Lois Lowry</td>\n",
       "      <td>The Giver (The Giver, #1)</td>\n",
       "      <td>2006</td>\n",
       "      <td>4667</td>\n",
       "      <td>4.098564</td>\n",
       "      <td>0.088832</td>\n",
       "      <td>{'Young Adult': 10993, 'Fiction': 9045, 'Class...</td>\n",
       "    </tr>\n",
       "    <tr>\n",
       "      <th>98</th>\n",
       "      <td>18293427</td>\n",
       "      <td>Gabrielle Zevin</td>\n",
       "      <td>The Storied Life of A.J. Fikry</td>\n",
       "      <td>2014</td>\n",
       "      <td>4674</td>\n",
       "      <td>4.092640</td>\n",
       "      <td>0.088795</td>\n",
       "      <td>{'Fiction': 3795, 'Contemporary': 1100, 'Writi...</td>\n",
       "    </tr>\n",
       "    <tr>\n",
       "      <th>99</th>\n",
       "      <td>26252859</td>\n",
       "      <td>Rick Riordan</td>\n",
       "      <td>The Hidden Oracle (The Trials of Apollo, #1)</td>\n",
       "      <td>2016</td>\n",
       "      <td>4371</td>\n",
       "      <td>4.293068</td>\n",
       "      <td>0.088419</td>\n",
       "      <td>{'Fantasy': 3173, 'Fantasy-Mythology': 1514}</td>\n",
       "    </tr>\n",
       "  </tbody>\n",
       "</table>\n",
       "<p>100 rows × 8 columns</p>\n",
       "</div>"
      ],
      "text/plain": [
       "     item_id                       author  \\\n",
       "0   18007564                    Andy Weir   \n",
       "1   18143977                Anthony Doerr   \n",
       "2          3  J.K. Rowling, Mary GrandPré   \n",
       "3   16096824                Sarah J. Maas   \n",
       "4      15881  J.K. Rowling, Mary GrandPré   \n",
       "..       ...                          ...   \n",
       "95   8490112                 Laini Taylor   \n",
       "96  18966819                 Pierce Brown   \n",
       "97      3636                   Lois Lowry   \n",
       "98  18293427              Gabrielle Zevin   \n",
       "99  26252859                 Rick Riordan   \n",
       "\n",
       "                                                title  publication_year  \\\n",
       "0                                         The Martian              2014   \n",
       "1                         All the Light We Cannot See              2014   \n",
       "2   Harry Potter and the Sorcerer's Stone (Harry P...              1997   \n",
       "3   A Court of Thorns and Roses (A Court of Thorns...              2015   \n",
       "4   Harry Potter and the Chamber of Secrets (Harry...              1999   \n",
       "..                                                ...               ...   \n",
       "95  Daughter of Smoke & Bone (Daughter of Smoke & ...              2011   \n",
       "96                        Golden Son (Red Rising, #2)              2015   \n",
       "97                          The Giver (The Giver, #1)              2006   \n",
       "98                     The Storied Life of A.J. Fikry              2014   \n",
       "99       The Hidden Oracle (The Trials of Apollo, #1)              2016   \n",
       "\n",
       "    users  avg_rating  popularity_score  \\\n",
       "0   20207    4.321275          0.412333   \n",
       "1   19462    4.290669          0.393471   \n",
       "2   15139    4.706057          0.344702   \n",
       "3   16770    4.301014          0.340108   \n",
       "4   13043    4.632447          0.291076   \n",
       "..    ...         ...               ...   \n",
       "95   4792    4.080968          0.090694   \n",
       "96   4361    4.374914          0.090409   \n",
       "97   4667    4.098564          0.088832   \n",
       "98   4674    4.092640          0.088795   \n",
       "99   4371    4.293068          0.088419   \n",
       "\n",
       "                                      genre_and_votes  \n",
       "0         {'Science Fiction': 11966, 'Fiction': 8430}  \n",
       "1   {'Historical-Historical Fiction': 13679, 'Fict...  \n",
       "2   {'Fantasy': 59818, 'Fiction': 17918, 'Young Ad...  \n",
       "3   {'Fantasy': 14326, 'Young Adult': 4662, 'Roman...  \n",
       "4   {'Fantasy': 50130, 'Young Adult': 15202, 'Fict...  \n",
       "..                                                ...  \n",
       "95  {'Fantasy': 11681, 'Young Adult': 7110, 'Roman...  \n",
       "96  {'Science Fiction': 2613, 'Fantasy': 1372, 'Sc...  \n",
       "97  {'Young Adult': 10993, 'Fiction': 9045, 'Class...  \n",
       "98  {'Fiction': 3795, 'Contemporary': 1100, 'Writi...  \n",
       "99       {'Fantasy': 3173, 'Fantasy-Mythology': 1514}  \n",
       "\n",
       "[100 rows x 8 columns]"
      ]
     },
     "metadata": {},
     "output_type": "display_data"
    }
   ],
   "source": [
    "# добавляем информацию о книгах\n",
    "top_k_pop_items = top_k_pop_items.merge(\n",
    "    items.set_index(\"item_id\")[[\"author\", \"title\", \"genre_and_votes\", \"publication_year\"]], on=\"item_id\")\n",
    "\n",
    "with pd.option_context('display.max_rows', 10):\n",
    "    display(top_k_pop_items[[\"item_id\", \"author\", \"title\", \"publication_year\", \"users\", \"avg_rating\", \"popularity_score\", \"genre_and_votes\"]])"
   ]
  },
  {
   "cell_type": "code",
   "execution_count": 8,
   "id": "f7d6a9c0",
   "metadata": {},
   "outputs": [
    {
     "name": "stdout",
     "output_type": "stream",
     "text": [
      "0.19768403639371382\n"
     ]
    }
   ],
   "source": [
    "cold_users_events_with_recs = \\\n",
    "    events_test[events_test[\"user_id\"].isin(cold_users)] \\\n",
    "    .merge(top_k_pop_items, on=\"item_id\", how=\"left\")\n",
    "\n",
    "cold_user_items_no_avg_rating_idx = cold_users_events_with_recs[\"avg_rating\"].isnull()\n",
    "cold_user_recs = cold_users_events_with_recs[~cold_user_items_no_avg_rating_idx] \\\n",
    "    [[\"user_id\", \"item_id\", \"rating\", \"avg_rating\"]]\n",
    "print(len(cold_user_recs) /  len(cold_users_events_with_recs))"
   ]
  },
  {
   "cell_type": "code",
   "execution_count": 9,
   "id": "988b4377",
   "metadata": {},
   "outputs": [
    {
     "name": "stdout",
     "output_type": "stream",
     "text": [
      "0.78 0.62\n"
     ]
    }
   ],
   "source": [
    "\n",
    "from sklearn.metrics import mean_absolute_error, root_mean_squared_error\n",
    "\n",
    "\n",
    "rmse = root_mean_squared_error(cold_user_recs[\"rating\"], cold_user_recs[\"avg_rating\"])\n",
    "mae = mean_absolute_error(cold_user_recs[\"rating\"], cold_user_recs[\"avg_rating\"])\n",
    "print(round(rmse, 2), round(mae, 2)) "
   ]
  },
  {
   "cell_type": "code",
   "execution_count": 10,
   "id": "c73b6d69",
   "metadata": {},
   "outputs": [
    {
     "name": "stdout",
     "output_type": "stream",
     "text": [
      "Доля пользователей без релевантных рекомендаций: 0.59\n",
      "Среднее покрытие пользователей: 0.44\n"
     ]
    }
   ],
   "source": [
    "# посчитаем покрытие холодных пользователей рекомендациями\n",
    "\n",
    "cold_users_hit_ratio = cold_users_events_with_recs.groupby(\"user_id\").agg(hits=(\"avg_rating\", lambda x: (~x.isnull()).mean()))\n",
    "\n",
    "print(f\"Доля пользователей без релевантных рекомендаций: {(cold_users_hit_ratio == 0).mean().iat[0]:.2f}\")\n",
    "print(f\"Среднее покрытие пользователей: {cold_users_hit_ratio[cold_users_hit_ratio != 0].mean().iat[0]:.2f}\")"
   ]
  },
  {
   "cell_type": "markdown",
   "id": "65ef157d-dd5a-4882-8208-40cd9cdfebfc",
   "metadata": {},
   "source": [
    "# === Знакомство: первые персональные рекомендации"
   ]
  },
  {
   "cell_type": "code",
   "execution_count": null,
   "id": "b687dc99-9aee-472f-9730-d5f17df99c7e",
   "metadata": {},
   "outputs": [],
   "source": []
  },
  {
   "cell_type": "code",
   "execution_count": null,
   "id": "bc62fbc2-36de-4ccb-bd2f-33594eafa2ff",
   "metadata": {},
   "outputs": [],
   "source": []
  },
  {
   "cell_type": "code",
   "execution_count": null,
   "id": "4e804e6f-3348-407c-aa3c-fc50b6045d8d",
   "metadata": {},
   "outputs": [],
   "source": []
  },
  {
   "cell_type": "markdown",
   "id": "3817eb52-1161-4e4e-a263-0cb616794a8e",
   "metadata": {},
   "source": [
    "# Базовые подходы: коллаборативная фильтрация"
   ]
  },
  {
   "cell_type": "code",
   "execution_count": 7,
   "id": "21789993-d0cd-4e74-96af-b3966d0f44c3",
   "metadata": {},
   "outputs": [
    {
     "data": {
      "text/plain": [
       "<surprise.prediction_algorithms.matrix_factorization.SVD at 0x2bd159b7e50>"
      ]
     },
     "execution_count": 7,
     "metadata": {},
     "output_type": "execute_result"
    }
   ],
   "source": [
    "# ~3-5 minutes\n",
    "from surprise import Dataset, Reader\n",
    "from surprise import SVD\n",
    "\n",
    "# используем Reader из библиотеки surprise для преобразования событий (events)\n",
    "# в формат, необходимый surprise\n",
    "reader = Reader(rating_scale=(1, 5))\n",
    "surprise_train_set = Dataset.load_from_df(events_train[['user_id', 'item_id', 'rating']], reader)\n",
    "surprise_train_set = surprise_train_set.build_full_trainset()\n",
    "\n",
    "# инициализируем модель\n",
    "svd_model = SVD(n_factors=100, random_state=0)\n",
    "\n",
    "# обучаем модель\n",
    "svd_model.fit(surprise_train_set)"
   ]
  },
  {
   "cell_type": "code",
   "execution_count": 10,
   "id": "9a96f98d-0270-4a06-9063-a687dbffeca5",
   "metadata": {},
   "outputs": [],
   "source": [
    "surprise_test_set = list(events_test[['user_id', 'item_id', 'rating']].itertuples(index=False))\n",
    "\n",
    "# получаем рекомендации для тестовой выборки\n",
    "svd_predictions = svd_model.test(surprise_test_set)"
   ]
  },
  {
   "cell_type": "code",
   "execution_count": 19,
   "id": "be389837-995e-4e57-928b-77293b7f1106",
   "metadata": {},
   "outputs": [
    {
     "name": "stdout",
     "output_type": "stream",
     "text": [
      "RMSE: 0.8289\n",
      "MAE:  0.6474\n",
      "0.8288711689059135 0.647437483750257\n"
     ]
    }
   ],
   "source": [
    "from surprise import accuracy\n",
    "\n",
    "rmse = accuracy.rmse(svd_predictions)\n",
    "mae = accuracy.mae(svd_predictions)\n",
    "print(rmse, mae)"
   ]
  },
  {
   "cell_type": "code",
   "execution_count": 8,
   "id": "aee53741",
   "metadata": {},
   "outputs": [
    {
     "ename": "NameError",
     "evalue": "name 'surprise_test_set' is not defined",
     "output_type": "error",
     "traceback": [
      "\u001b[1;31m---------------------------------------------------------------------------\u001b[0m",
      "\u001b[1;31mNameError\u001b[0m                                 Traceback (most recent call last)",
      "Cell \u001b[1;32mIn[8], line 10\u001b[0m\n\u001b[0;32m      7\u001b[0m random_model \u001b[38;5;241m=\u001b[39m NormalPredictor()\n\u001b[0;32m      9\u001b[0m random_model\u001b[38;5;241m.\u001b[39mfit(surprise_train_set)\n\u001b[1;32m---> 10\u001b[0m random_predictions \u001b[38;5;241m=\u001b[39m random_model\u001b[38;5;241m.\u001b[39mtest(\u001b[43msurprise_test_set\u001b[49m)\n\u001b[0;32m     11\u001b[0m random_rmse \u001b[38;5;241m=\u001b[39m accuracy\u001b[38;5;241m.\u001b[39mrmse(random_predictions)\n\u001b[0;32m     12\u001b[0m random_mae \u001b[38;5;241m=\u001b[39m accuracy\u001b[38;5;241m.\u001b[39mmae(random_predictions)\n",
      "\u001b[1;31mNameError\u001b[0m: name 'surprise_test_set' is not defined"
     ]
    }
   ],
   "source": [
    "from surprise import NormalPredictor, accuracy\n",
    "\n",
    "# инициализируем состояние генератора, это необходимо для получения\n",
    "# одной и той же последовательности случайных чисел, только в учебных целях\n",
    "np.random.seed(0)\n",
    "\n",
    "random_model = NormalPredictor()\n",
    "\n",
    "random_model.fit(surprise_train_set)\n",
    "random_predictions = random_model.test(surprise_test_set)\n",
    "random_rmse = accuracy.rmse(random_predictions)\n",
    "random_mae = accuracy.mae(random_predictions)\n",
    "print(random_rmse, random_mae)"
   ]
  },
  {
   "cell_type": "code",
   "execution_count": 23,
   "id": "20939297",
   "metadata": {},
   "outputs": [
    {
     "data": {
      "text/plain": [
       "54.72886771309964"
      ]
     },
     "execution_count": 23,
     "metadata": {},
     "output_type": "execute_result"
    }
   ],
   "source": [
    "(random_mae - mae) / mae * 100"
   ]
  },
  {
   "cell_type": "markdown",
   "id": "bb819a3d",
   "metadata": {},
   "source": [
    "### Факультативное задание\n",
    "Задание. Удалите из events события для редких айтемов — таких, с которыми взаимодействовало менее N пользователей. Возьмите небольшое N, например 2–3 пользователя. Получите рекомендации, посчитайте метрики, оцените, как они изменились. Подумайте, с чем могут быть связаны такие изменения."
   ]
  },
  {
   "cell_type": "code",
   "execution_count": 9,
   "id": "bb8c6d91",
   "metadata": {},
   "outputs": [
    {
     "name": "stdout",
     "output_type": "stream",
     "text": [
      "[Prediction(uid=1296647, iid=31450846, r_ui=None, est=4.752795975597794, details={'was_impossible': False})]\n"
     ]
    },
    {
     "data": {
      "text/html": [
       "<div>\n",
       "<style scoped>\n",
       "    .dataframe tbody tr th:only-of-type {\n",
       "        vertical-align: middle;\n",
       "    }\n",
       "\n",
       "    .dataframe tbody tr th {\n",
       "        vertical-align: top;\n",
       "    }\n",
       "\n",
       "    .dataframe thead th {\n",
       "        text-align: right;\n",
       "    }\n",
       "</style>\n",
       "<table border=\"1\" class=\"dataframe\">\n",
       "  <thead>\n",
       "    <tr style=\"text-align: right;\">\n",
       "      <th></th>\n",
       "      <th>item_id</th>\n",
       "      <th>score</th>\n",
       "    </tr>\n",
       "  </thead>\n",
       "  <tbody>\n",
       "    <tr>\n",
       "      <th>0</th>\n",
       "      <td>11221285</td>\n",
       "      <td>4.914296</td>\n",
       "    </tr>\n",
       "    <tr>\n",
       "      <th>1</th>\n",
       "      <td>22037424</td>\n",
       "      <td>4.908423</td>\n",
       "    </tr>\n",
       "    <tr>\n",
       "      <th>2</th>\n",
       "      <td>33353628</td>\n",
       "      <td>4.872179</td>\n",
       "    </tr>\n",
       "    <tr>\n",
       "      <th>3</th>\n",
       "      <td>29844341</td>\n",
       "      <td>4.850003</td>\n",
       "    </tr>\n",
       "    <tr>\n",
       "      <th>4</th>\n",
       "      <td>17332218</td>\n",
       "      <td>4.839010</td>\n",
       "    </tr>\n",
       "  </tbody>\n",
       "</table>\n",
       "</div>"
      ],
      "text/plain": [
       "    item_id     score\n",
       "0  11221285  4.914296\n",
       "1  22037424  4.908423\n",
       "2  33353628  4.872179\n",
       "3  29844341  4.850003\n",
       "4  17332218  4.839010"
      ]
     },
     "execution_count": 9,
     "metadata": {},
     "output_type": "execute_result"
    }
   ],
   "source": [
    "def get_recommendations_svd(user_id, all_items, events, model, include_seen=True, n=5):\n",
    "    \"\"\"\n",
    "    возвращает n рекомендаций для user_id\n",
    "    \"\"\"\n",
    "    \n",
    "    # получим список идентификаторов всех книг\n",
    "    all_items = set(events['item_id'])\n",
    "        \n",
    "    # учитываем флаг, стоит ли уже прочитанные книги включать в рекомендации\n",
    "    if include_seen:\n",
    "        items_to_predict = list(all_items)\n",
    "    else:\n",
    "        # получим список книг, которые пользователь уже прочитал (\"видел\")\n",
    "        seen_items = set(events[events[\"user_id\"] == user_id]['item_id'])\n",
    "        \n",
    "        # книги, которые пользователь ещё не читал\n",
    "        # только их и будем включать в рекомендации\n",
    "        items_to_predict = list(all_items - seen_items)\n",
    "    \n",
    "    # получаем скоры для списка книг, т. е. рекомендации\n",
    "    predictions = [model.predict(user_id, item_id) for item_id in items_to_predict]\n",
    "    left = [smth for smth in predictions if smth.iid == 31450846]  # 30688013\n",
    "    print(left)\n",
    "    \n",
    "    # сортируем рекомендации по убыванию скора и берём только n первых\n",
    "    recommendations = sorted(predictions, key=lambda x: x.est, reverse=True)[:n]\n",
    "    \n",
    "    return pd.DataFrame([(pred.iid, pred.est) for pred in recommendations], columns=[\"item_id\", \"score\"])\n",
    "\n",
    "get_recommendations_svd(1296647, items, events_test, svd_model)"
   ]
  },
  {
   "cell_type": "markdown",
   "id": "8b699c52",
   "metadata": {},
   "source": [
    "## Дополнительная проверка качества рекомендаций"
   ]
  },
  {
   "cell_type": "code",
   "execution_count": 31,
   "id": "53061534",
   "metadata": {},
   "outputs": [
    {
     "name": "stdout",
     "output_type": "stream",
     "text": [
      "user_id: 648870e2d02a8adcfbf23f78045204dd\n",
      "История (последние события, recent)\n"
     ]
    },
    {
     "data": {
      "text/html": [
       "<div>\n",
       "<style scoped>\n",
       "    .dataframe tbody tr th:only-of-type {\n",
       "        vertical-align: middle;\n",
       "    }\n",
       "\n",
       "    .dataframe tbody tr th {\n",
       "        vertical-align: top;\n",
       "    }\n",
       "\n",
       "    .dataframe thead th {\n",
       "        text-align: right;\n",
       "    }\n",
       "</style>\n",
       "<table border=\"1\" class=\"dataframe\">\n",
       "  <thead>\n",
       "    <tr style=\"text-align: right;\">\n",
       "      <th></th>\n",
       "      <th>author</th>\n",
       "      <th>title</th>\n",
       "      <th>started_at</th>\n",
       "      <th>read_at</th>\n",
       "      <th>rating</th>\n",
       "      <th>genre_and_votes</th>\n",
       "    </tr>\n",
       "  </thead>\n",
       "  <tbody>\n",
       "    <tr>\n",
       "      <th>68</th>\n",
       "      <td>Veronica Roth</td>\n",
       "      <td>Divergent (Divergent, #1)</td>\n",
       "      <td>2014-06-02</td>\n",
       "      <td>2014-06-04</td>\n",
       "      <td>4</td>\n",
       "      <td>{'Young Adult': 20260, 'Science Fiction-Dystop...</td>\n",
       "    </tr>\n",
       "    <tr>\n",
       "      <th>69</th>\n",
       "      <td>Gillian Flynn, В. Русанов</td>\n",
       "      <td>Gone Girl</td>\n",
       "      <td>2014-05-27</td>\n",
       "      <td>2014-05-29</td>\n",
       "      <td>5</td>\n",
       "      <td>{'Fiction': 11773, 'Mystery': 9965, 'Thriller'...</td>\n",
       "    </tr>\n",
       "    <tr>\n",
       "      <th>70</th>\n",
       "      <td>Kathy Reichs</td>\n",
       "      <td>Death du Jour (Temperance Brennan, #2)</td>\n",
       "      <td>2014-05-24</td>\n",
       "      <td>2014-05-27</td>\n",
       "      <td>4</td>\n",
       "      <td>{'Mystery': 1206, 'Mystery-Crime': 579, 'Ficti...</td>\n",
       "    </tr>\n",
       "    <tr>\n",
       "      <th>71</th>\n",
       "      <td>Chelsea Cain</td>\n",
       "      <td>Heartsick (Archie Sheridan &amp; Gretchen Lowell, #1)</td>\n",
       "      <td>2014-05-22</td>\n",
       "      <td>2014-05-22</td>\n",
       "      <td>5</td>\n",
       "      <td>{'Mystery': 832, 'Thriller': 653, 'Fiction': 4...</td>\n",
       "    </tr>\n",
       "    <tr>\n",
       "      <th>72</th>\n",
       "      <td>Jussi Adler-Olsen, Lisa Hartford</td>\n",
       "      <td>The Keeper of Lost Causes (Department Q, #1)</td>\n",
       "      <td>2014-05-30</td>\n",
       "      <td>2014-06-02</td>\n",
       "      <td>3</td>\n",
       "      <td>{'Mystery': 1225, 'Mystery-Crime': 627, 'Ficti...</td>\n",
       "    </tr>\n",
       "    <tr>\n",
       "      <th>73</th>\n",
       "      <td>Gillian Flynn</td>\n",
       "      <td>Dark Places</td>\n",
       "      <td>2014-05-17</td>\n",
       "      <td>2014-05-22</td>\n",
       "      <td>4</td>\n",
       "      <td>{'Mystery': 4534, 'Fiction': 4055, 'Thriller':...</td>\n",
       "    </tr>\n",
       "    <tr>\n",
       "      <th>74</th>\n",
       "      <td>Audrey Niffenegger</td>\n",
       "      <td>Her Fearful Symmetry</td>\n",
       "      <td>2014-05-05</td>\n",
       "      <td>2014-05-08</td>\n",
       "      <td>2</td>\n",
       "      <td>{'Fiction': 1984, 'Fantasy': 674, 'Fantasy-Par...</td>\n",
       "    </tr>\n",
       "    <tr>\n",
       "      <th>75</th>\n",
       "      <td>Kathy Reichs</td>\n",
       "      <td>Déjà Dead (Temperance Brennan, #1)</td>\n",
       "      <td>2014-05-13</td>\n",
       "      <td>2014-05-17</td>\n",
       "      <td>4</td>\n",
       "      <td>{'Mystery': 2141, 'Fiction': 904, 'Mystery-Cri...</td>\n",
       "    </tr>\n",
       "    <tr>\n",
       "      <th>76</th>\n",
       "      <td>Carolyn Parkhurst</td>\n",
       "      <td>The Dogs of Babel</td>\n",
       "      <td>2014-05-09</td>\n",
       "      <td>2014-05-10</td>\n",
       "      <td>5</td>\n",
       "      <td>{'Fiction': 522, 'Mystery': 102, 'Animals': 77...</td>\n",
       "    </tr>\n",
       "    <tr>\n",
       "      <th>77</th>\n",
       "      <td>George R.R. Martin</td>\n",
       "      <td>A Dance with Dragons (A Song of Ice and Fire, #5)</td>\n",
       "      <td>2014-05-04</td>\n",
       "      <td>2014-05-04</td>\n",
       "      <td>5</td>\n",
       "      <td>{'Fantasy': 22247, 'Fiction': 4512, 'Fantasy-E...</td>\n",
       "    </tr>\n",
       "  </tbody>\n",
       "</table>\n",
       "</div>"
      ],
      "text/plain": [
       "                              author  \\\n",
       "68                     Veronica Roth   \n",
       "69         Gillian Flynn, В. Русанов   \n",
       "70                      Kathy Reichs   \n",
       "71                      Chelsea Cain   \n",
       "72  Jussi Adler-Olsen, Lisa Hartford   \n",
       "73                     Gillian Flynn   \n",
       "74                Audrey Niffenegger   \n",
       "75                      Kathy Reichs   \n",
       "76                 Carolyn Parkhurst   \n",
       "77                George R.R. Martin   \n",
       "\n",
       "                                                title  started_at     read_at  \\\n",
       "68                          Divergent (Divergent, #1)  2014-06-02  2014-06-04   \n",
       "69                                          Gone Girl  2014-05-27  2014-05-29   \n",
       "70             Death du Jour (Temperance Brennan, #2)  2014-05-24  2014-05-27   \n",
       "71  Heartsick (Archie Sheridan & Gretchen Lowell, #1)  2014-05-22  2014-05-22   \n",
       "72       The Keeper of Lost Causes (Department Q, #1)  2014-05-30  2014-06-02   \n",
       "73                                        Dark Places  2014-05-17  2014-05-22   \n",
       "74                               Her Fearful Symmetry  2014-05-05  2014-05-08   \n",
       "75                 Déjà Dead (Temperance Brennan, #1)  2014-05-13  2014-05-17   \n",
       "76                                  The Dogs of Babel  2014-05-09  2014-05-10   \n",
       "77  A Dance with Dragons (A Song of Ice and Fire, #5)  2014-05-04  2014-05-04   \n",
       "\n",
       "    rating                                    genre_and_votes  \n",
       "68       4  {'Young Adult': 20260, 'Science Fiction-Dystop...  \n",
       "69       5  {'Fiction': 11773, 'Mystery': 9965, 'Thriller'...  \n",
       "70       4  {'Mystery': 1206, 'Mystery-Crime': 579, 'Ficti...  \n",
       "71       5  {'Mystery': 832, 'Thriller': 653, 'Fiction': 4...  \n",
       "72       3  {'Mystery': 1225, 'Mystery-Crime': 627, 'Ficti...  \n",
       "73       4  {'Mystery': 4534, 'Fiction': 4055, 'Thriller':...  \n",
       "74       2  {'Fiction': 1984, 'Fantasy': 674, 'Fantasy-Par...  \n",
       "75       4  {'Mystery': 2141, 'Fiction': 904, 'Mystery-Cri...  \n",
       "76       5  {'Fiction': 522, 'Mystery': 102, 'Animals': 77...  \n",
       "77       5  {'Fantasy': 22247, 'Fiction': 4512, 'Fantasy-E...  "
      ]
     },
     "metadata": {},
     "output_type": "display_data"
    },
    {
     "name": "stdout",
     "output_type": "stream",
     "text": [
      "Рекомендации\n",
      "[Prediction(uid='648870e2d02a8adcfbf23f78045204dd', iid=30688013, r_ui=None, est=4.9910641738662145, details={'was_impossible': False})]\n"
     ]
    },
    {
     "data": {
      "text/html": [
       "<div>\n",
       "<style scoped>\n",
       "    .dataframe tbody tr th:only-of-type {\n",
       "        vertical-align: middle;\n",
       "    }\n",
       "\n",
       "    .dataframe tbody tr th {\n",
       "        vertical-align: top;\n",
       "    }\n",
       "\n",
       "    .dataframe thead th {\n",
       "        text-align: right;\n",
       "    }\n",
       "</style>\n",
       "<table border=\"1\" class=\"dataframe\">\n",
       "  <thead>\n",
       "    <tr style=\"text-align: right;\">\n",
       "      <th></th>\n",
       "      <th>item_id</th>\n",
       "      <th>score</th>\n",
       "      <th>author</th>\n",
       "      <th>title</th>\n",
       "      <th>genre_and_votes</th>\n",
       "    </tr>\n",
       "  </thead>\n",
       "  <tbody>\n",
       "    <tr>\n",
       "      <th>0</th>\n",
       "      <td>2199</td>\n",
       "      <td>5</td>\n",
       "      <td>Doris Kearns Goodwin</td>\n",
       "      <td>Team of Rivals: The Political Genius of Abraha...</td>\n",
       "      <td>{'History': 4174, 'Nonfiction': 2127, 'Biograp...</td>\n",
       "    </tr>\n",
       "    <tr>\n",
       "      <th>1</th>\n",
       "      <td>16255632</td>\n",
       "      <td>5</td>\n",
       "      <td>David Gaider, Ben Gelinas, Mike Laidlaw, Dave ...</td>\n",
       "      <td>Dragon Age: The World of Thedas Volume 1</td>\n",
       "      <td>{'Fantasy': 134, 'Games-Video Games': 28, 'Art...</td>\n",
       "    </tr>\n",
       "    <tr>\n",
       "      <th>2</th>\n",
       "      <td>2363958</td>\n",
       "      <td>5</td>\n",
       "      <td>João Guimarães Rosa</td>\n",
       "      <td>Grande Sertão: Veredas</td>\n",
       "      <td>{'Fiction': 85, 'Classics': 69, 'Cultural-Braz...</td>\n",
       "    </tr>\n",
       "    <tr>\n",
       "      <th>3</th>\n",
       "      <td>22552026</td>\n",
       "      <td>5</td>\n",
       "      <td>Jason Reynolds</td>\n",
       "      <td>Long Way Down</td>\n",
       "      <td>{'Young Adult': 1871, 'Poetry': 1737, 'Contemp...</td>\n",
       "    </tr>\n",
       "    <tr>\n",
       "      <th>4</th>\n",
       "      <td>29237211</td>\n",
       "      <td>5</td>\n",
       "      <td>Brian K. Vaughan, Fiona Staples</td>\n",
       "      <td>Saga, Vol. 7 (Saga, #7)</td>\n",
       "      <td>{'Sequential Art-Graphic Novels': 2539, 'Seque...</td>\n",
       "    </tr>\n",
       "  </tbody>\n",
       "</table>\n",
       "</div>"
      ],
      "text/plain": [
       "    item_id  score                                             author  \\\n",
       "0      2199      5                               Doris Kearns Goodwin   \n",
       "1  16255632      5  David Gaider, Ben Gelinas, Mike Laidlaw, Dave ...   \n",
       "2   2363958      5                                João Guimarães Rosa   \n",
       "3  22552026      5                                     Jason Reynolds   \n",
       "4  29237211      5                    Brian K. Vaughan, Fiona Staples   \n",
       "\n",
       "                                               title  \\\n",
       "0  Team of Rivals: The Political Genius of Abraha...   \n",
       "1           Dragon Age: The World of Thedas Volume 1   \n",
       "2                             Grande Sertão: Veredas   \n",
       "3                                      Long Way Down   \n",
       "4                            Saga, Vol. 7 (Saga, #7)   \n",
       "\n",
       "                                     genre_and_votes  \n",
       "0  {'History': 4174, 'Nonfiction': 2127, 'Biograp...  \n",
       "1  {'Fantasy': 134, 'Games-Video Games': 28, 'Art...  \n",
       "2  {'Fiction': 85, 'Classics': 69, 'Cultural-Braz...  \n",
       "3  {'Young Adult': 1871, 'Poetry': 1737, 'Contemp...  \n",
       "4  {'Sequential Art-Graphic Novels': 2539, 'Seque...  "
      ]
     },
     "metadata": {},
     "output_type": "display_data"
    }
   ],
   "source": [
    "# выберем произвольного пользователя из тренировочной выборки (\"прошлого\")\n",
    "user_id = events_train['user_id'].sample().iat[0]\n",
    "\n",
    "print(f\"user_id: {user_id}\")\n",
    "\n",
    "print(\"История (последние события, recent)\")\n",
    "user_history = (\n",
    "    events_train\n",
    "    .query(\"user_id == @user_id\")\n",
    "    .merge(items.set_index(\"item_id\")[[\"author\", \"title\", \"genre_and_votes\"]], on=\"item_id\")\n",
    ")\n",
    "user_history_to_print = user_history[[\"author\", \"title\", \"started_at\", \"read_at\", \"rating\", \"genre_and_votes\"]].tail(10)\n",
    "display(user_history_to_print)\n",
    "\n",
    "print(\"Рекомендации\")\n",
    "user_recommendations = get_recommendations_svd(user_id, items, events_train, svd_model)\n",
    "user_recommendations = user_recommendations.merge(items[[\"item_id\", \"author\", \"title\", \"genre_and_votes\"]], on=\"item_id\")\n",
    "display(user_recommendations)"
   ]
  },
  {
   "cell_type": "markdown",
   "id": "90f6e3f9",
   "metadata": {},
   "source": [
    "## Коллаборативная фильтрация: ALS"
   ]
  },
  {
   "cell_type": "markdown",
   "id": "b9cbba60",
   "metadata": {},
   "source": [
    "### Fit"
   ]
  },
  {
   "cell_type": "code",
   "execution_count": 6,
   "id": "58374430",
   "metadata": {},
   "outputs": [
    {
     "name": "stdout",
     "output_type": "stream",
     "text": [
      "Encoding data...\n",
      "User encoding took 3.53 seconds\n",
      "Item encoding took 2.05 seconds\n",
      "Expected matrix size is 17.37 GB\n"
     ]
    }
   ],
   "source": [
    "from data_encoder import DataEncoder\n",
    "data_encoder = DataEncoder(items, events, events_train, events_test)\n",
    "data_encoder.fit()\n",
    "assert data_encoder.train[\"item_id_enc\"].max() == 43304, \"Must match theory\"\n",
    "\n",
    "matrix_size = (\n",
    "            (data_encoder.train[\"user_id_enc\"].max() + 1)\n",
    "            * (data_encoder.train[\"item_id_enc\"].max() + 1)\n",
    "            / 1024**3\n",
    "        )  # in GB\n",
    "print(f\"Expected matrix size is {matrix_size:.2f} GB\")"
   ]
  },
  {
   "cell_type": "code",
   "execution_count": 7,
   "id": "8e975ccf",
   "metadata": {},
   "outputs": [
    {
     "name": "stderr",
     "output_type": "stream",
     "text": [
      "d:\\Work\\ya.practicum\\ml\\sprint-4\\mle-recsys-start\\.venv\\lib\\site-packages\\tqdm\\auto.py:21: TqdmWarning: IProgress not found. Please update jupyter and ipywidgets. See https://ipywidgets.readthedocs.io/en/stable/user_install.html\n",
      "  from .autonotebook import tqdm as notebook_tqdm\n"
     ]
    },
    {
     "name": "stdout",
     "output_type": "stream",
     "text": [
      "User-item matrix construction took 0.43 seconds\n",
      "Loading ALS model from d:\\Work\\ya.practicum\\ml\\sprint-4\\mle-recsys-start\\data\\models\\als_model.pkl\n",
      "Loading ALS recommendations from d:\\Work\\ya.practicum\\ml\\sprint-4\\mle-recsys-start\\data\\als_recommendations.parquet\n",
      "Real matrix size 0.26 GB\n"
     ]
    }
   ],
   "source": [
    "from als_model import ALSPredictor\n",
    "predictor = ALSPredictor(data_encoder)\n",
    "predictor.fit()\n",
    "als_recommendations = predictor.get_all_recommendations()\n",
    "matrix_size = predictor.get_train_size()\n",
    "print(f\"Real matrix size {matrix_size:.2f} GB\")"
   ]
  },
  {
   "cell_type": "code",
   "execution_count": 8,
   "id": "eae98a51",
   "metadata": {},
   "outputs": [
    {
     "name": "stdout",
     "output_type": "stream",
     "text": [
      "user_id: 4d0dd7a24197f0fefd3ef775c35c52d4\n"
     ]
    },
    {
     "data": {
      "text/html": [
       "<div>\n",
       "<style scoped>\n",
       "    .dataframe tbody tr th:only-of-type {\n",
       "        vertical-align: middle;\n",
       "    }\n",
       "\n",
       "    .dataframe tbody tr th {\n",
       "        vertical-align: top;\n",
       "    }\n",
       "\n",
       "    .dataframe thead th {\n",
       "        text-align: right;\n",
       "    }\n",
       "</style>\n",
       "<table border=\"1\" class=\"dataframe\">\n",
       "  <thead>\n",
       "    <tr style=\"text-align: right;\">\n",
       "      <th></th>\n",
       "      <th>author</th>\n",
       "      <th>title</th>\n",
       "      <th>started_at</th>\n",
       "      <th>read_at</th>\n",
       "      <th>rating</th>\n",
       "      <th>genre_and_votes</th>\n",
       "    </tr>\n",
       "  </thead>\n",
       "  <tbody>\n",
       "    <tr>\n",
       "      <th>0</th>\n",
       "      <td>Kate Quinn</td>\n",
       "      <td>The Alice Network</td>\n",
       "      <td>2017-10-05</td>\n",
       "      <td>2017-10-06</td>\n",
       "      <td>4</td>\n",
       "      <td>{'Historical-Historical Fiction': 4712, 'Ficti...</td>\n",
       "    </tr>\n",
       "    <tr>\n",
       "      <th>1</th>\n",
       "      <td>Laura Dave</td>\n",
       "      <td>Eight Hundred Grapes</td>\n",
       "      <td>2017-09-14</td>\n",
       "      <td>2017-10-12</td>\n",
       "      <td>3</td>\n",
       "      <td>{'Fiction': 333, 'Womens Fiction-Chick Lit': 1...</td>\n",
       "    </tr>\n",
       "    <tr>\n",
       "      <th>2</th>\n",
       "      <td>Emily St. John Mandel</td>\n",
       "      <td>Station Eleven</td>\n",
       "      <td>2017-09-02</td>\n",
       "      <td>2017-09-14</td>\n",
       "      <td>5</td>\n",
       "      <td>{'Fiction': 5860, 'Science Fiction': 3274, 'Sc...</td>\n",
       "    </tr>\n",
       "    <tr>\n",
       "      <th>3</th>\n",
       "      <td>Paulette Jiles</td>\n",
       "      <td>News of the World</td>\n",
       "      <td>2017-08-24</td>\n",
       "      <td>2017-09-02</td>\n",
       "      <td>4</td>\n",
       "      <td>{'Historical-Historical Fiction': 2120, 'Ficti...</td>\n",
       "    </tr>\n",
       "  </tbody>\n",
       "</table>\n",
       "</div>"
      ],
      "text/plain": [
       "                  author                 title  started_at     read_at  \\\n",
       "0             Kate Quinn     The Alice Network  2017-10-05  2017-10-06   \n",
       "1             Laura Dave  Eight Hundred Grapes  2017-09-14  2017-10-12   \n",
       "2  Emily St. John Mandel        Station Eleven  2017-09-02  2017-09-14   \n",
       "3         Paulette Jiles     News of the World  2017-08-24  2017-09-02   \n",
       "\n",
       "   rating                                    genre_and_votes  \n",
       "0       4  {'Historical-Historical Fiction': 4712, 'Ficti...  \n",
       "1       3  {'Fiction': 333, 'Womens Fiction-Chick Lit': 1...  \n",
       "2       5  {'Fiction': 5860, 'Science Fiction': 3274, 'Sc...  \n",
       "3       4  {'Historical-Historical Fiction': 2120, 'Ficti...  "
      ]
     },
     "metadata": {},
     "output_type": "display_data"
    },
    {
     "data": {
      "text/html": [
       "<div>\n",
       "<style scoped>\n",
       "    .dataframe tbody tr th:only-of-type {\n",
       "        vertical-align: middle;\n",
       "    }\n",
       "\n",
       "    .dataframe tbody tr th {\n",
       "        vertical-align: top;\n",
       "    }\n",
       "\n",
       "    .dataframe thead th {\n",
       "        text-align: right;\n",
       "    }\n",
       "</style>\n",
       "<table border=\"1\" class=\"dataframe\">\n",
       "  <thead>\n",
       "    <tr style=\"text-align: right;\">\n",
       "      <th></th>\n",
       "      <th>author</th>\n",
       "      <th>title</th>\n",
       "      <th>seen</th>\n",
       "      <th>score</th>\n",
       "      <th>genre_and_votes</th>\n",
       "    </tr>\n",
       "  </thead>\n",
       "  <tbody>\n",
       "    <tr>\n",
       "      <th>0</th>\n",
       "      <td>Fredrik Backman, Henning Koch</td>\n",
       "      <td>A Man Called Ove</td>\n",
       "      <td>False</td>\n",
       "      <td>0.609431</td>\n",
       "      <td>{'Fiction': 7091, 'Contemporary': 1656, 'Audio...</td>\n",
       "    </tr>\n",
       "    <tr>\n",
       "      <th>1</th>\n",
       "      <td>Kristin Hannah</td>\n",
       "      <td>The Nightingale</td>\n",
       "      <td>False</td>\n",
       "      <td>0.595451</td>\n",
       "      <td>{'Historical-Historical Fiction': 10105, 'Fict...</td>\n",
       "    </tr>\n",
       "    <tr>\n",
       "      <th>2</th>\n",
       "      <td>Anthony Doerr</td>\n",
       "      <td>All the Light We Cannot See</td>\n",
       "      <td>False</td>\n",
       "      <td>0.580018</td>\n",
       "      <td>{'Historical-Historical Fiction': 13679, 'Fict...</td>\n",
       "    </tr>\n",
       "    <tr>\n",
       "      <th>3</th>\n",
       "      <td>J.D. Vance</td>\n",
       "      <td>Hillbilly Elegy: A Memoir of a Family and Cult...</td>\n",
       "      <td>False</td>\n",
       "      <td>0.562294</td>\n",
       "      <td>{'Nonfiction': 5029, 'Autobiography-Memoir': 3...</td>\n",
       "    </tr>\n",
       "    <tr>\n",
       "      <th>4</th>\n",
       "      <td>Colson Whitehead</td>\n",
       "      <td>The Underground Railroad</td>\n",
       "      <td>False</td>\n",
       "      <td>0.555316</td>\n",
       "      <td>{'Historical-Historical Fiction': 5191, 'Ficti...</td>\n",
       "    </tr>\n",
       "  </tbody>\n",
       "</table>\n",
       "</div>"
      ],
      "text/plain": [
       "                          author  \\\n",
       "0  Fredrik Backman, Henning Koch   \n",
       "1                 Kristin Hannah   \n",
       "2                  Anthony Doerr   \n",
       "3                     J.D. Vance   \n",
       "4               Colson Whitehead   \n",
       "\n",
       "                                               title   seen     score  \\\n",
       "0                                   A Man Called Ove  False  0.609431   \n",
       "1                                    The Nightingale  False  0.595451   \n",
       "2                        All the Light We Cannot See  False  0.580018   \n",
       "3  Hillbilly Elegy: A Memoir of a Family and Cult...  False  0.562294   \n",
       "4                           The Underground Railroad  False  0.555316   \n",
       "\n",
       "                                     genre_and_votes  \n",
       "0  {'Fiction': 7091, 'Contemporary': 1656, 'Audio...  \n",
       "1  {'Historical-Historical Fiction': 10105, 'Fict...  \n",
       "2  {'Historical-Historical Fiction': 13679, 'Fict...  \n",
       "3  {'Nonfiction': 5029, 'Autobiography-Memoir': 3...  \n",
       "4  {'Historical-Historical Fiction': 5191, 'Ficti...  "
      ]
     },
     "metadata": {},
     "output_type": "display_data"
    }
   ],
   "source": [
    "# TODO: Используя get_recommendations_als, напишите код, который позволит для случайного пользователя просмотреть рекомендации в удобном формате: \n",
    "# история с именами авторов и названием книг,\n",
    "# рекомендации с именами авторов и названием книг, seen-признаком (взаимодействовал ли уже пользователь с рекомендованной книгой).\n",
    "# Проанализируйте, релевантны ли рекомендации имеющейся истории.\n",
    "user_id = events_test['user_id'].sample().iat[0]\n",
    "print(f\"user_id: {user_id}\")\n",
    "user_history = (\n",
    "    events_test\n",
    "    .query(\"user_id == @user_id\")\n",
    "    .merge(items.set_index(\"item_id\")[[\"author\", \"title\", \"genre_and_votes\"]], on=\"item_id\")\n",
    "    .sort_values(\"started_at\", ascending=False)\n",
    ")\n",
    "user_history_to_print = user_history[[\"author\", \"title\", \"started_at\", \"read_at\", \"rating\", \"genre_and_votes\"]].tail(10)\n",
    "display(user_history_to_print)\n",
    "user_recommendations = predictor.recommend(user_id)\n",
    "user_recommendations = user_recommendations.merge(items[[\"item_id\", \"author\", \"title\", \"genre_and_votes\"]], on=\"item_id\")\n",
    "user_recommendations[\"seen\"] = user_recommendations[\"item_id\"].isin(user_history[\"item_id\"])\n",
    "display(user_recommendations[[\"author\", \"title\", \"seen\", \"score\", \"genre_and_votes\"]])"
   ]
  },
  {
   "cell_type": "markdown",
   "id": "091c8b38",
   "metadata": {},
   "source": [
    "### Rating"
   ]
  },
  {
   "cell_type": "code",
   "execution_count": 7,
   "id": "5df4f2aa",
   "metadata": {},
   "outputs": [
    {
     "name": "stdout",
     "output_type": "stream",
     "text": [
      "Loading ALS recommendations from d:\\Work\\ya.practicum\\ml\\sprint-4\\mle-recsys-start\\data\\als_recommendations.parquet\n"
     ]
    },
    {
     "name": "stderr",
     "output_type": "stream",
     "text": [
      "d:\\Work\\ya.practicum\\ml\\sprint-4\\mle-recsys-start\\als_model.py:262: FutureWarning: DataFrameGroupBy.apply operated on the grouping columns. This behavior is deprecated, and in a future version of pandas the grouping columns will be excluded from the operation. Either pass `include_groups=False` to exclude the groupings or explicitly select the grouping columns after groupby to silence this warning.\n",
      "  .apply(lambda x: self._compute_ndcg(x[\"rating_test\"], x[\"score\"], k=5))\n"
     ]
    },
    {
     "data": {
      "text/plain": [
       "(0.9759467097921087, 39.06332421706986)"
      ]
     },
     "metadata": {},
     "output_type": "display_data"
    }
   ],
   "source": [
    "rating = predictor.compute_rating()\n",
    "display(rating)\n",
    "assert abs(rating[0] - 0.9759) < 0.0001, \"Must match theory\""
   ]
  },
  {
   "cell_type": "markdown",
   "id": "def44751",
   "metadata": {},
   "source": [
    "### I2I (items to items)"
   ]
  },
  {
   "cell_type": "code",
   "execution_count": 8,
   "id": "a429095a",
   "metadata": {},
   "outputs": [
    {
     "data": {
      "text/html": [
       "<div>\n",
       "<style scoped>\n",
       "    .dataframe tbody tr th:only-of-type {\n",
       "        vertical-align: middle;\n",
       "    }\n",
       "\n",
       "    .dataframe tbody tr th {\n",
       "        vertical-align: top;\n",
       "    }\n",
       "\n",
       "    .dataframe thead th {\n",
       "        text-align: right;\n",
       "    }\n",
       "</style>\n",
       "<table border=\"1\" class=\"dataframe\">\n",
       "  <thead>\n",
       "    <tr style=\"text-align: right;\">\n",
       "      <th></th>\n",
       "      <th>author</th>\n",
       "      <th>title</th>\n",
       "      <th>genre_and_votes</th>\n",
       "    </tr>\n",
       "  </thead>\n",
       "  <tbody>\n",
       "    <tr>\n",
       "      <th>2356323</th>\n",
       "      <td>David Banks</td>\n",
       "      <td>Doctor Who: Iceberg</td>\n",
       "      <td>{'Media Tie In-Doctor Who': 72, 'Science Ficti...</td>\n",
       "    </tr>\n",
       "  </tbody>\n",
       "</table>\n",
       "</div>"
      ],
      "text/plain": [
       "              author                title  \\\n",
       "2356323  David Banks  Doctor Who: Iceberg   \n",
       "\n",
       "                                           genre_and_votes  \n",
       "2356323  {'Media Tie In-Doctor Who': 72, 'Science Ficti...  "
      ]
     },
     "metadata": {},
     "output_type": "display_data"
    },
    {
     "data": {
      "text/html": [
       "<div>\n",
       "<style scoped>\n",
       "    .dataframe tbody tr th:only-of-type {\n",
       "        vertical-align: middle;\n",
       "    }\n",
       "\n",
       "    .dataframe tbody tr th {\n",
       "        vertical-align: top;\n",
       "    }\n",
       "\n",
       "    .dataframe thead th {\n",
       "        text-align: right;\n",
       "    }\n",
       "</style>\n",
       "<table border=\"1\" class=\"dataframe\">\n",
       "  <thead>\n",
       "    <tr style=\"text-align: right;\">\n",
       "      <th></th>\n",
       "      <th>author</th>\n",
       "      <th>title</th>\n",
       "      <th>score</th>\n",
       "      <th>genre_and_votes</th>\n",
       "    </tr>\n",
       "  </thead>\n",
       "  <tbody>\n",
       "    <tr>\n",
       "      <th>0</th>\n",
       "      <td>David Banks</td>\n",
       "      <td>Doctor Who: Iceberg</td>\n",
       "      <td>1.000000</td>\n",
       "      <td>{'Media Tie In-Doctor Who': 72, 'Science Ficti...</td>\n",
       "    </tr>\n",
       "    <tr>\n",
       "      <th>1</th>\n",
       "      <td>Terrance Dicks</td>\n",
       "      <td>Doctor Who: Blood Harvest</td>\n",
       "      <td>0.876225</td>\n",
       "      <td>{'Media Tie In-Doctor Who': 68, 'Science Ficti...</td>\n",
       "    </tr>\n",
       "    <tr>\n",
       "      <th>2</th>\n",
       "      <td>Simon Messingham</td>\n",
       "      <td>Doctor Who: Strange England</td>\n",
       "      <td>0.783639</td>\n",
       "      <td>{'Media Tie In-Doctor Who': 55, 'Science Ficti...</td>\n",
       "    </tr>\n",
       "    <tr>\n",
       "      <th>3</th>\n",
       "      <td>Philip K. Dick</td>\n",
       "      <td>The Preserving Machine</td>\n",
       "      <td>0.758360</td>\n",
       "      <td>{'Science Fiction': 41, 'Fiction': 16, 'Short ...</td>\n",
       "    </tr>\n",
       "    <tr>\n",
       "      <th>4</th>\n",
       "      <td>Douglas Adams</td>\n",
       "      <td>The Long Dark Tea-Time of the Soul (Dirk Gentl...</td>\n",
       "      <td>0.749707</td>\n",
       "      <td>{'Fiction': 1247, 'Fantasy': 1203, 'Science Fi...</td>\n",
       "    </tr>\n",
       "    <tr>\n",
       "      <th>5</th>\n",
       "      <td>Douglas Adams</td>\n",
       "      <td>Dirk Gently's Holistic Detective Agency (Dirk ...</td>\n",
       "      <td>0.733965</td>\n",
       "      <td>{'Science Fiction': 1977, 'Fiction': 1757, 'Fa...</td>\n",
       "    </tr>\n",
       "    <tr>\n",
       "      <th>6</th>\n",
       "      <td>Douglas Adams</td>\n",
       "      <td>The Salmon of Doubt (Dirk Gently, #3)</td>\n",
       "      <td>0.730440</td>\n",
       "      <td>{'Science Fiction': 602, 'Fiction': 516, 'Humo...</td>\n",
       "    </tr>\n",
       "    <tr>\n",
       "      <th>7</th>\n",
       "      <td>J.M.R. Higgs, John Higgs</td>\n",
       "      <td>I Have America Surrounded: A Biography of Timo...</td>\n",
       "      <td>0.725811</td>\n",
       "      <td>{'Biography': 18, 'Nonfiction': 8, 'History': ...</td>\n",
       "    </tr>\n",
       "    <tr>\n",
       "      <th>8</th>\n",
       "      <td>Terry Jones, Marie-Catherine Caillava</td>\n",
       "      <td>Starship Titanic</td>\n",
       "      <td>0.724653</td>\n",
       "      <td>{'Science Fiction': 317, 'Fiction': 176, 'Humo...</td>\n",
       "    </tr>\n",
       "    <tr>\n",
       "      <th>9</th>\n",
       "      <td>Philip K. Dick, Mark Hurst</td>\n",
       "      <td>The Golden Man</td>\n",
       "      <td>0.719286</td>\n",
       "      <td>{'Science Fiction': 52, 'Fiction': 23, 'Short ...</td>\n",
       "    </tr>\n",
       "  </tbody>\n",
       "</table>\n",
       "</div>"
      ],
      "text/plain": [
       "                                  author  \\\n",
       "0                            David Banks   \n",
       "1                         Terrance Dicks   \n",
       "2                       Simon Messingham   \n",
       "3                         Philip K. Dick   \n",
       "4                          Douglas Adams   \n",
       "5                          Douglas Adams   \n",
       "6                          Douglas Adams   \n",
       "7               J.M.R. Higgs, John Higgs   \n",
       "8  Terry Jones, Marie-Catherine Caillava   \n",
       "9             Philip K. Dick, Mark Hurst   \n",
       "\n",
       "                                               title     score  \\\n",
       "0                                Doctor Who: Iceberg  1.000000   \n",
       "1                          Doctor Who: Blood Harvest  0.876225   \n",
       "2                        Doctor Who: Strange England  0.783639   \n",
       "3                             The Preserving Machine  0.758360   \n",
       "4  The Long Dark Tea-Time of the Soul (Dirk Gentl...  0.749707   \n",
       "5  Dirk Gently's Holistic Detective Agency (Dirk ...  0.733965   \n",
       "6              The Salmon of Doubt (Dirk Gently, #3)  0.730440   \n",
       "7  I Have America Surrounded: A Biography of Timo...  0.725811   \n",
       "8                                   Starship Titanic  0.724653   \n",
       "9                                     The Golden Man  0.719286   \n",
       "\n",
       "                                     genre_and_votes  \n",
       "0  {'Media Tie In-Doctor Who': 72, 'Science Ficti...  \n",
       "1  {'Media Tie In-Doctor Who': 68, 'Science Ficti...  \n",
       "2  {'Media Tie In-Doctor Who': 55, 'Science Ficti...  \n",
       "3  {'Science Fiction': 41, 'Fiction': 16, 'Short ...  \n",
       "4  {'Fiction': 1247, 'Fantasy': 1203, 'Science Fi...  \n",
       "5  {'Science Fiction': 1977, 'Fiction': 1757, 'Fa...  \n",
       "6  {'Science Fiction': 602, 'Fiction': 516, 'Humo...  \n",
       "7  {'Biography': 18, 'Nonfiction': 8, 'History': ...  \n",
       "8  {'Science Fiction': 317, 'Fiction': 176, 'Humo...  \n",
       "9  {'Science Fiction': 52, 'Fiction': 23, 'Short ...  "
      ]
     },
     "metadata": {},
     "output_type": "display_data"
    }
   ],
   "source": [
    "item_id = items['item_id'].sample().iat[0]\n",
    "display(items[items[\"item_id\"] == item_id][[\"author\", \"title\", \"genre_and_votes\"]])\n",
    "similar_items = predictor.recommend_by_item(item_id)\n",
    "similar_items = similar_items.merge(items[[\"item_id\", \"author\", \"title\", \"genre_and_votes\"]], on=\"item_id\")\n",
    "display(similar_items[[\"author\", \"title\", \"score\", \"genre_and_votes\"]])"
   ]
  },
  {
   "cell_type": "markdown",
   "id": "62575f67-f46e-4747-b3de-6ff5a87d0eba",
   "metadata": {},
   "source": [
    "# Базовые подходы: контентные рекомендации"
   ]
  },
  {
   "cell_type": "code",
   "execution_count": 9,
   "id": "5ae7f494-3ee9-4f49-a61b-9dfb411518bd",
   "metadata": {},
   "outputs": [],
   "source": [
    "items[\"genre_and_votes\"] = items[\"genre_and_votes\"].apply(eval) "
   ]
  },
  {
   "cell_type": "code",
   "execution_count": 10,
   "id": "5f655832-4caa-4290-9b34-388e7b3f5d37",
   "metadata": {},
   "outputs": [
    {
     "data": {
      "text/html": [
       "<div>\n",
       "<style scoped>\n",
       "    .dataframe tbody tr th:only-of-type {\n",
       "        vertical-align: middle;\n",
       "    }\n",
       "\n",
       "    .dataframe tbody tr th {\n",
       "        vertical-align: top;\n",
       "    }\n",
       "\n",
       "    .dataframe thead th {\n",
       "        text-align: right;\n",
       "    }\n",
       "</style>\n",
       "<table border=\"1\" class=\"dataframe\">\n",
       "  <thead>\n",
       "    <tr style=\"text-align: right;\">\n",
       "      <th></th>\n",
       "      <th>name</th>\n",
       "      <th>votes</th>\n",
       "    </tr>\n",
       "    <tr>\n",
       "      <th>genre_id</th>\n",
       "      <th></th>\n",
       "      <th></th>\n",
       "    </tr>\n",
       "  </thead>\n",
       "  <tbody>\n",
       "    <tr>\n",
       "      <th>25</th>\n",
       "      <td>Fantasy</td>\n",
       "      <td>6850060</td>\n",
       "    </tr>\n",
       "    <tr>\n",
       "      <th>1</th>\n",
       "      <td>Fiction</td>\n",
       "      <td>6406256</td>\n",
       "    </tr>\n",
       "    <tr>\n",
       "      <th>38</th>\n",
       "      <td>Classics</td>\n",
       "      <td>3414934</td>\n",
       "    </tr>\n",
       "    <tr>\n",
       "      <th>18</th>\n",
       "      <td>Young Adult</td>\n",
       "      <td>3296951</td>\n",
       "    </tr>\n",
       "    <tr>\n",
       "      <th>34</th>\n",
       "      <td>Romance</td>\n",
       "      <td>2422614</td>\n",
       "    </tr>\n",
       "  </tbody>\n",
       "</table>\n",
       "</div>"
      ],
      "text/plain": [
       "                 name    votes\n",
       "genre_id                      \n",
       "25            Fantasy  6850060\n",
       "1             Fiction  6406256\n",
       "38           Classics  3414934\n",
       "18        Young Adult  3296951\n",
       "34            Romance  2422614"
      ]
     },
     "metadata": {},
     "output_type": "display_data"
    }
   ],
   "source": [
    "from content_recommendations import get_genres\n",
    "genres = get_genres(items)\n",
    "popular_5th = genres.sort_values(\"votes\", ascending=False).head(5)\n",
    "display(popular_5th)\n",
    "assert popular_5th.iloc[[4]][\"name\"].iat[0] == \"Romance\", \"Must match theory\""
   ]
  },
  {
   "cell_type": "code",
   "execution_count": 11,
   "id": "0cec51f0",
   "metadata": {},
   "outputs": [],
   "source": [
    "from content_recommendations import get_item2genre_matrix\n",
    "items = items.sort_values(by=\"item_id_enc\")\n",
    "all_items_genres_csr = get_item2genre_matrix(genres, items)"
   ]
  },
  {
   "cell_type": "code",
   "execution_count": null,
   "id": "01bb16a4",
   "metadata": {},
   "outputs": [
    {
     "data": {
      "text/plain": [
       "<Compressed Sparse Row sparse matrix of dtype 'float64'\n",
       "\twith 149 stored elements and shape (22, 815)>"
      ]
     },
     "metadata": {},
     "output_type": "display_data"
    }
   ],
   "source": [
    "from content_recommendations import get_genres, get_item2genre_matrix\n",
    "# получим матрицу жанров для конкретного пользователя\n",
    "user_id = 1000010\n",
    "user_events = events_train.query(\"user_idx == @user_id\")[[\"item_id\", \"rating\"]]\n",
    "user_items = items[items[\"item_id\"].isin(user_events[\"item_id\"])]\n",
    "user_items_genres_csr = get_item2genre_matrix(genres, user_items)\n",
    "display(user_items_genres_csr)\n",
    "\n",
    "# Сколько получилось существующих элементов в user_items_genres_csr для выбранного пользователя?\n",
    "assert user_items_genres_csr.nnz == 149, \"Must match theory\""
   ]
  },
  {
   "cell_type": "markdown",
   "id": "d9c1be08",
   "metadata": {},
   "source": [
    "На практике часто пользователь явно указывает предпочтения в своём профиле. У нас таких данных нет, поэтому предпочтения пользователя по жанрам вычислим автоматически на основе его истории поведения. "
   ]
  },
  {
   "cell_type": "code",
   "execution_count": 23,
   "id": "b28232ff",
   "metadata": {},
   "outputs": [
    {
     "data": {
      "text/html": [
       "<div>\n",
       "<style scoped>\n",
       "    .dataframe tbody tr th:only-of-type {\n",
       "        vertical-align: middle;\n",
       "    }\n",
       "\n",
       "    .dataframe tbody tr th {\n",
       "        vertical-align: top;\n",
       "    }\n",
       "\n",
       "    .dataframe thead th {\n",
       "        text-align: right;\n",
       "    }\n",
       "</style>\n",
       "<table border=\"1\" class=\"dataframe\">\n",
       "  <thead>\n",
       "    <tr style=\"text-align: right;\">\n",
       "      <th></th>\n",
       "      <th>name</th>\n",
       "      <th>votes</th>\n",
       "      <th>score</th>\n",
       "    </tr>\n",
       "    <tr>\n",
       "      <th>genre_id</th>\n",
       "      <th></th>\n",
       "      <th></th>\n",
       "      <th></th>\n",
       "    </tr>\n",
       "  </thead>\n",
       "  <tbody>\n",
       "    <tr>\n",
       "      <th>1</th>\n",
       "      <td>Fiction</td>\n",
       "      <td>6406256</td>\n",
       "      <td>0.185241</td>\n",
       "    </tr>\n",
       "    <tr>\n",
       "      <th>38</th>\n",
       "      <td>Classics</td>\n",
       "      <td>3414934</td>\n",
       "      <td>0.103879</td>\n",
       "    </tr>\n",
       "    <tr>\n",
       "      <th>25</th>\n",
       "      <td>Fantasy</td>\n",
       "      <td>6850060</td>\n",
       "      <td>0.072447</td>\n",
       "    </tr>\n",
       "    <tr>\n",
       "      <th>5</th>\n",
       "      <td>Nonfiction</td>\n",
       "      <td>1737406</td>\n",
       "      <td>0.050865</td>\n",
       "    </tr>\n",
       "    <tr>\n",
       "      <th>24</th>\n",
       "      <td>Science Fiction</td>\n",
       "      <td>1218917</td>\n",
       "      <td>0.040920</td>\n",
       "    </tr>\n",
       "  </tbody>\n",
       "</table>\n",
       "</div>"
      ],
      "text/plain": [
       "                     name    votes     score\n",
       "genre_id                                    \n",
       "1                 Fiction  6406256  0.185241\n",
       "38               Classics  3414934  0.103879\n",
       "25                Fantasy  6850060  0.072447\n",
       "5              Nonfiction  1737406  0.050865\n",
       "24        Science Fiction  1218917  0.040920"
      ]
     },
     "execution_count": 23,
     "metadata": {},
     "output_type": "execute_result"
    }
   ],
   "source": [
    "# вычислим склонность пользователя к жанрам как среднее взвешенное значение популяции на его оценки книг.\n",
    "\n",
    "# преобразуем пользовательские оценки из списка в вектор-столбец\n",
    "user_ratings = user_events[\"rating\"].to_numpy() / 5\n",
    "user_ratings = np.expand_dims(user_ratings, axis=1)\n",
    "\n",
    "user_items_genres_weighted = user_items_genres_csr.multiply(user_ratings)\n",
    "\n",
    "user_genres_scores = np.asarray(user_items_genres_weighted.mean(axis=0)) \n",
    "\n",
    "# выведем список жанров, которые предпочитает пользователь\n",
    "user_genres = genres.copy()\n",
    "user_genres[\"score\"] = np.ravel(user_genres_scores)\n",
    "user_genres_filtered = user_genres[user_genres[\"score\"] > 0].sort_values(by=[\"score\"], ascending=False)\n",
    "\n",
    "user_genres_filtered.head(5) "
   ]
  },
  {
   "cell_type": "code",
   "execution_count": 24,
   "id": "eea44e6b",
   "metadata": {},
   "outputs": [
    {
     "data": {
      "text/html": [
       "<div>\n",
       "<style scoped>\n",
       "    .dataframe tbody tr th:only-of-type {\n",
       "        vertical-align: middle;\n",
       "    }\n",
       "\n",
       "    .dataframe tbody tr th {\n",
       "        vertical-align: top;\n",
       "    }\n",
       "\n",
       "    .dataframe thead th {\n",
       "        text-align: right;\n",
       "    }\n",
       "</style>\n",
       "<table border=\"1\" class=\"dataframe\">\n",
       "  <thead>\n",
       "    <tr style=\"text-align: right;\">\n",
       "      <th></th>\n",
       "      <th>author</th>\n",
       "      <th>title</th>\n",
       "      <th>genre_and_votes</th>\n",
       "    </tr>\n",
       "  </thead>\n",
       "  <tbody>\n",
       "    <tr>\n",
       "      <th>80465</th>\n",
       "      <td>G.K. Chesterton</td>\n",
       "      <td>The Napoleon of Notting Hill</td>\n",
       "      <td>{'Fiction': 166, 'Classics': 88, 'Fantasy': 44, 'Humor': 22, 'Literature': 20}</td>\n",
       "    </tr>\n",
       "    <tr>\n",
       "      <th>1168335</th>\n",
       "      <td>Ray Bradbury</td>\n",
       "      <td>Dandelion Wine (Green Town, #1)</td>\n",
       "      <td>{'Fiction': 1438, 'Classics': 914, 'Science Fiction': 529, 'Fantasy': 456, 'Young Adult': 212}</td>\n",
       "    </tr>\n",
       "    <tr>\n",
       "      <th>393210</th>\n",
       "      <td>G.K. Chesterton, Jonathan Lethem</td>\n",
       "      <td>The Man Who Was Thursday: A Nightmare</td>\n",
       "      <td>{'Fiction': 1257, 'Classics': 929, 'Mystery': 469, 'Fantasy': 293, 'Philosophy': 156, 'Literatur...</td>\n",
       "    </tr>\n",
       "    <tr>\n",
       "      <th>2244467</th>\n",
       "      <td>Samuel Butler</td>\n",
       "      <td>Erewhon (Erewhon , #1)</td>\n",
       "      <td>{'Fiction': 162, 'Classics': 139, 'Science Fiction': 60, 'Fantasy': 55}</td>\n",
       "    </tr>\n",
       "    <tr>\n",
       "      <th>39408</th>\n",
       "      <td>Paulo Coelho, Alan R. Clarke, James Noel Smith</td>\n",
       "      <td>The Alchemist</td>\n",
       "      <td>{'Fiction': 14023, 'Classics': 5787, 'Fantasy': 3289, 'Philosophy': 2759}</td>\n",
       "    </tr>\n",
       "  </tbody>\n",
       "</table>\n",
       "</div>"
      ],
      "text/plain": [
       "                                                 author  \\\n",
       "80465                                   G.K. Chesterton   \n",
       "1168335                                    Ray Bradbury   \n",
       "393210                 G.K. Chesterton, Jonathan Lethem   \n",
       "2244467                                   Samuel Butler   \n",
       "39408    Paulo Coelho, Alan R. Clarke, James Noel Smith   \n",
       "\n",
       "                                         title  \\\n",
       "80465             The Napoleon of Notting Hill   \n",
       "1168335        Dandelion Wine (Green Town, #1)   \n",
       "393210   The Man Who Was Thursday: A Nightmare   \n",
       "2244467                 Erewhon (Erewhon , #1)   \n",
       "39408                            The Alchemist   \n",
       "\n",
       "                                                                                             genre_and_votes  \n",
       "80465                         {'Fiction': 166, 'Classics': 88, 'Fantasy': 44, 'Humor': 22, 'Literature': 20}  \n",
       "1168335       {'Fiction': 1438, 'Classics': 914, 'Science Fiction': 529, 'Fantasy': 456, 'Young Adult': 212}  \n",
       "393210   {'Fiction': 1257, 'Classics': 929, 'Mystery': 469, 'Fantasy': 293, 'Philosophy': 156, 'Literatur...  \n",
       "2244467                              {'Fiction': 162, 'Classics': 139, 'Science Fiction': 60, 'Fantasy': 55}  \n",
       "39408                              {'Fiction': 14023, 'Classics': 5787, 'Fantasy': 3289, 'Philosophy': 2759}  "
      ]
     },
     "metadata": {},
     "output_type": "display_data"
    }
   ],
   "source": [
    "from sklearn.metrics.pairwise import cosine_similarity\n",
    "\n",
    "# вычисляем сходство между вектором пользователя и векторами по книгам\n",
    "similarity_scores = cosine_similarity(all_items_genres_csr, user_genres_scores)\n",
    "\n",
    "# преобразуем в одномерный массив\n",
    "similarity_scores = similarity_scores.flatten()\n",
    "\n",
    "# получаем индексы top-k (по убыванию значений), по сути, индексы книг (encoded)\n",
    "k = 5\n",
    "top_k_indices = np.argsort(similarity_scores)[-k:][::-1]\n",
    "selected_items = items[items[\"item_id_enc\"].isin(top_k_indices)]\n",
    "\n",
    "with pd.option_context(\"max_colwidth\", 100):\n",
    "   display(selected_items[[\"author\", \"title\", \"genre_and_votes\"]]) "
   ]
  },
  {
   "cell_type": "markdown",
   "id": "040314ee",
   "metadata": {},
   "source": [
    "### TODO: Факультативное задание\n",
    "- Получите по алгоритму выше рекомендации для нескольких пользователей, просмотрите их на экране. Подумайте, насколько релевантны и интересны полученные рекомендации пользователям.\n",
    "- Попробуйте использовать другую меру сходства для получения рекомендаций, например, евклидово расстояние. Проанализируйте, отличаются ли рекомендации от предыдущих. Подумайте почему.\n",
    "- Задайте собственные предпочтения для наиболее популярных жанров. Посмотрите рекомендации для себя. Прочитали ли бы вы рекомендованные книги?"
   ]
  },
  {
   "cell_type": "markdown",
   "id": "dfdeb7c3-0935-4bee-8b93-dfe26091289b",
   "metadata": {},
   "source": [
    "# Базовые подходы: валидация"
   ]
  },
  {
   "cell_type": "markdown",
   "id": "ab019b7b",
   "metadata": {},
   "source": [
    "## Рассчет ALS для всех пользователей"
   ]
  },
  {
   "cell_type": "markdown",
   "id": "ea65b81d",
   "metadata": {},
   "source": [
    "Alternating Least Squares — это метод, который используется для разложения матриц в рекомендациях и коллаборативной фильтрации"
   ]
  },
  {
   "cell_type": "code",
   "execution_count": 17,
   "id": "5e3d65de",
   "metadata": {},
   "outputs": [
    {
     "name": "stdout",
     "output_type": "stream",
     "text": [
      "Loading ALS recommendations from d:\\Work\\ya.practicum\\ml\\sprint-4\\mle-recsys-start\\data\\als_recommendations.parquet\n"
     ]
    }
   ],
   "source": [
    "from als_model import ALSPredictor\n",
    "predictor = ALSPredictor(data_encoder)\n",
    "als_recommendations = predictor.get_all_recommendations()"
   ]
  },
  {
   "cell_type": "markdown",
   "id": "661d2e44",
   "metadata": {},
   "source": [
    "## Рассчет метрик"
   ]
  },
  {
   "cell_type": "code",
   "execution_count": 9,
   "id": "05850eab-168a-4338-8692-cd1a8fefb685",
   "metadata": {},
   "outputs": [
    {
     "name": "stdout",
     "output_type": "stream",
     "text": [
      "Common users: 123223\n"
     ]
    },
    {
     "name": "stderr",
     "output_type": "stream",
     "text": [
      "d:\\Work\\ya.practicum\\ml\\sprint-4\\mle-recsys-start\\validation.py:46: FutureWarning: Downcasting object dtype arrays on .fillna, .ffill, .bfill is deprecated and will change in a future version. Call result.infer_objects(copy=False) instead. To opt-in to the future behavior, set `pd.set_option('future.no_silent_downcasting', True)`\n",
      "  events_recs_common[\"gt\"] = events_recs_common[\"gt\"].fillna(False)\n"
     ]
    },
    {
     "data": {
      "text/plain": [
       "(0.007581376853347184, 0.014121568795222568)"
      ]
     },
     "metadata": {},
     "output_type": "display_data"
    }
   ],
   "source": [
    "from validation import compute_cls_metrics, process_events_recs_for_binary_metrics\n",
    "\n",
    "_SIZE = 5\n",
    "\n",
    "events_recs_for_binary_metrics = process_events_recs_for_binary_metrics(\n",
    "  events_train,\n",
    "    events_test, \n",
    "    als_recommendations, \n",
    "    top_k=_SIZE)\n",
    "\n",
    "metrics = compute_cls_metrics(events_recs_for_binary_metrics)\n",
    "assert abs(metrics[1] - 0.014) < 0.001, \"Must match theory\"\n",
    "display(metrics)"
   ]
  },
  {
   "cell_type": "code",
   "execution_count": 12,
   "id": "28f429e6-b9da-4231-afba-25dd8e606a23",
   "metadata": {},
   "outputs": [
    {
     "name": "stdout",
     "output_type": "stream",
     "text": [
      "Common users: 123223\n"
     ]
    },
    {
     "name": "stderr",
     "output_type": "stream",
     "text": [
      "d:\\Work\\ya.practicum\\ml\\sprint-4\\mle-recsys-start\\validation.py:46: FutureWarning: Downcasting object dtype arrays on .fillna, .ffill, .bfill is deprecated and will change in a future version. Call result.infer_objects(copy=False) instead. To opt-in to the future behavior, set `pd.set_option('future.no_silent_downcasting', True)`\n",
      "  events_recs_common[\"gt\"] = events_recs_common[\"gt\"].fillna(False)\n"
     ]
    },
    {
     "data": {
      "text/plain": [
       "(0.008732947582837622, 0.03130238527136974)"
      ]
     },
     "execution_count": 12,
     "metadata": {},
     "output_type": "execute_result"
    }
   ],
   "source": [
    "from validation import compute_cls_metrics, process_events_recs_for_binary_metrics\n",
    "\n",
    "_SIZE = 10\n",
    "\n",
    "events_recs_for_binary_metrics = process_events_recs_for_binary_metrics(\n",
    "  events_train,\n",
    "    events_test, \n",
    "    als_recommendations, \n",
    "    top_k=_SIZE)\n",
    "\n",
    "compute_cls_metrics(events_recs_for_binary_metrics)"
   ]
  },
  {
   "cell_type": "markdown",
   "id": "b2568d6a",
   "metadata": {},
   "source": [
    "## Специфичные метрики"
   ]
  },
  {
   "cell_type": "markdown",
   "id": "2261b3e0",
   "metadata": {},
   "source": [
    "### Покрытие (coverage)"
   ]
  },
  {
   "cell_type": "code",
   "execution_count": null,
   "id": "b4e4509b-6289-4ad6-a767-cbb2ace791ee",
   "metadata": {},
   "outputs": [
    {
     "data": {
      "text/plain": [
       "'Users coverage: 100.00%'"
      ]
     },
     "metadata": {},
     "output_type": "display_data"
    },
    {
     "data": {
      "text/plain": [
       "'Items coverage: 9.36%'"
      ]
     },
     "metadata": {},
     "output_type": "display_data"
    }
   ],
   "source": [
    "# Compute coverage\n",
    "users_w_recommendations = als_recommendations[\"user_id\"].nunique()\n",
    "users_coverage = users_w_recommendations / events[\"user_id\"].nunique()\n",
    "display(f\"Users coverage: {users_coverage:.2%}\")\n",
    "\n",
    "items_in_recommendations = als_recommendations[\"item_id\"].nunique()\n",
    "items_coverage = items_in_recommendations / items[\"item_id\"].nunique()\n",
    "assert abs(items_coverage - 0.09) < 0.01, \"Must match theory\"\n",
    "# Критично, чтобы покрытие не было чересчур малым — речь о долях процента. \n",
    "display(f\"Items coverage: {items_coverage:.2%}\")"
   ]
  },
  {
   "cell_type": "markdown",
   "id": "1c06b51c",
   "metadata": {},
   "source": [
    "### Новизна (novelty)"
   ]
  },
  {
   "cell_type": "markdown",
   "id": "5302a7a4",
   "metadata": {},
   "source": [
    "Это значение можно интерпретировать так: для топ-5 рекомендаций в среднем пользователю рекомендуется 61% книг, которые он ранее не читал."
   ]
  },
  {
   "cell_type": "code",
   "execution_count": null,
   "id": "b8b87840",
   "metadata": {},
   "outputs": [
    {
     "name": "stderr",
     "output_type": "stream",
     "text": [
      "C:\\Users\\avgre\\AppData\\Local\\Temp\\ipykernel_23092\\3154143214.py:4: FutureWarning: Downcasting object dtype arrays on .fillna, .ffill, .bfill is deprecated and will change in a future version. Call result.infer_objects(copy=False) instead. To opt-in to the future behavior, set `pd.set_option('future.no_silent_downcasting', True)`\n",
      "  als_recommendations_merged[\"read\"] = als_recommendations_merged[\"read\"].fillna(False).astype(\"bool\")\n"
     ]
    },
    {
     "data": {
      "text/plain": [
       "'Novelty@5: 0.61'"
      ]
     },
     "metadata": {},
     "output_type": "display_data"
    }
   ],
   "source": [
    "# разметим каждую рекомендацию признаком read\n",
    "events_train[\"read\"] = True\n",
    "als_recommendations_merged = als_recommendations.copy().merge(events_train, on=[\"user_id\", \"item_id\"], how=\"left\")\n",
    "als_recommendations_merged[\"read\"] = als_recommendations_merged[\"read\"].fillna(False).astype(\"bool\")\n",
    "\n",
    "# проставим ранги\n",
    "als_recommendations_merged = als_recommendations_merged.sort_values(by=[\"user_id\", \"score\"], ascending=[True, False])\n",
    "als_recommendations_merged[\"rank\"] = als_recommendations_merged.groupby(\"user_id\").cumcount() + 1\n",
    "\n",
    "# посчитаем novelty по пользователям\n",
    "novelty_5 = (1 - als_recommendations_merged.query(\"rank <= 5\").groupby(\"user_id\")[\"read\"].mean()).mean()\n",
    "assert abs(novelty_5 - 0.61) < 0.001, \"Must match theory\"\n",
    "display(f\"Novelty@5: {novelty_5:.2}\")"
   ]
  },
  {
   "cell_type": "markdown",
   "id": "e79aafa4",
   "metadata": {},
   "source": [
    "### Разнообразие (diversity)"
   ]
  },
  {
   "cell_type": "markdown",
   "id": "f78475fc-bee1-48f4-be55-329db8ecd326",
   "metadata": {},
   "source": [
    "# === Двухстадийный подход: метрики"
   ]
  },
  {
   "cell_type": "code",
   "execution_count": null,
   "id": "2a4cf639-1afa-4e89-8ba5-eee48a1bd0e1",
   "metadata": {},
   "outputs": [],
   "source": []
  },
  {
   "cell_type": "code",
   "execution_count": null,
   "id": "48e4d676-ede1-4725-8e31-457ebc0452da",
   "metadata": {},
   "outputs": [],
   "source": []
  },
  {
   "cell_type": "code",
   "execution_count": null,
   "id": "d99db2ab-231d-4cf8-8221-5e00e9e6e4c0",
   "metadata": {},
   "outputs": [],
   "source": []
  },
  {
   "cell_type": "markdown",
   "id": "4fbae6b6-b1e2-4bbf-b1ad-227f2916917f",
   "metadata": {},
   "source": [
    "# === Двухстадийный подход: модель"
   ]
  },
  {
   "cell_type": "code",
   "execution_count": null,
   "id": "2ef764d6-f2cc-4e72-bd7f-81a69dd7380d",
   "metadata": {},
   "outputs": [],
   "source": []
  },
  {
   "cell_type": "code",
   "execution_count": null,
   "id": "9dcc8048-f4b5-411f-913a-fd73c6a6ff2a",
   "metadata": {},
   "outputs": [],
   "source": []
  },
  {
   "cell_type": "code",
   "execution_count": null,
   "id": "dd6c82df-981f-441a-8dc2-c7b06ab2b6f7",
   "metadata": {},
   "outputs": [],
   "source": []
  },
  {
   "cell_type": "markdown",
   "id": "29b6ebd5-38a3-4f8e-8941-2f91fa70ca4e",
   "metadata": {},
   "source": [
    "# === Двухстадийный подход: построение признаков"
   ]
  },
  {
   "cell_type": "code",
   "execution_count": null,
   "id": "8788cba9-0396-46a2-b2af-1ecbd65b944e",
   "metadata": {},
   "outputs": [],
   "source": []
  },
  {
   "cell_type": "code",
   "execution_count": null,
   "id": "27aed9a2-88d9-4375-b0b0-7333aea7b1e0",
   "metadata": {},
   "outputs": [],
   "source": []
  },
  {
   "cell_type": "code",
   "execution_count": null,
   "id": "344f7f13-e43e-490c-a816-43d25c5a4a5f",
   "metadata": {},
   "outputs": [],
   "source": []
  }
 ],
 "metadata": {
  "kernelspec": {
   "display_name": ".venv",
   "language": "python",
   "name": "python3"
  },
  "language_info": {
   "codemirror_mode": {
    "name": "ipython",
    "version": 3
   },
   "file_extension": ".py",
   "mimetype": "text/x-python",
   "name": "python",
   "nbconvert_exporter": "python",
   "pygments_lexer": "ipython3",
   "version": "3.10.0"
  }
 },
 "nbformat": 4,
 "nbformat_minor": 5
}
