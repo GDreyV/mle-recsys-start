{
 "cells": [
  {
   "cell_type": "markdown",
   "id": "b3589a9a-ce16-4d2e-b581-d75139fc58b3",
   "metadata": {},
   "source": [
    "# Initialization"
   ]
  },
  {
   "cell_type": "code",
   "execution_count": 1,
   "id": "c6e28b2f-3822-4e27-b576-9bc42b279b32",
   "metadata": {},
   "outputs": [],
   "source": [
    "import logging\n",
    "\n",
    "import matplotlib.pyplot as plt\n",
    "import numpy as np\n",
    "import pandas as pd"
   ]
  },
  {
   "cell_type": "code",
   "execution_count": 2,
   "id": "4e53bc65-3e32-454b-b353-e9b95489c26c",
   "metadata": {},
   "outputs": [],
   "source": [
    "%matplotlib inline\n",
    "%config InlineBackend.figure_format = 'png'\n",
    "%config InlineBackend.figure_format = 'retina'"
   ]
  },
  {
   "cell_type": "markdown",
   "id": "e8b1d982-8795-45c2-b221-6e5a07eaa150",
   "metadata": {},
   "source": [
    "# Загрузка данных"
   ]
  },
  {
   "cell_type": "code",
   "execution_count": 3,
   "id": "6ab0db85-17df-4a4f-b23c-e9cd983d8c43",
   "metadata": {},
   "outputs": [],
   "source": [
    "items = pd.read_parquet(\"./data/transformed/items.par\")\n",
    "events = pd.read_parquet(\"./data/transformed/events.par\")"
   ]
  },
  {
   "cell_type": "markdown",
   "id": "f18f28dd-0371-4144-bf11-d077d44e8de0",
   "metadata": {},
   "source": [
    "# Разбиение с учётом хронологии"
   ]
  },
  {
   "cell_type": "markdown",
   "id": "47016708-6f94-4518-886c-58fa6e7bb315",
   "metadata": {},
   "source": [
    "Рекомендательные системы на практике работают с учётом хронологии. Поэтому поток событий для тренировки и валидации полезно делить на то, что уже случилось, и что ещё случится. Это позволяет проводить валидацию на тех же пользователях, на которых тренировались, но на их событиях в будущем."
   ]
  },
  {
   "cell_type": "markdown",
   "id": "e8df5897-bbcd-4364-b5d3-ec7d1de6743a",
   "metadata": {},
   "source": [
    "# === Знакомство: \"холодный\" старт"
   ]
  },
  {
   "cell_type": "code",
   "execution_count": 4,
   "id": "4713c062-c9cd-425f-8174-cf133c4730d1",
   "metadata": {},
   "outputs": [
    {
     "name": "stdout",
     "output_type": "stream",
     "text": [
      "428220 123223 120858\n"
     ]
    }
   ],
   "source": [
    "event_cutoff_date = pd.to_datetime(\"2017-08-01\").date()\n",
    "events_train = events.query(\"started_at < @event_cutoff_date\").copy()\n",
    "events_test = events.query(\"started_at >= @event_cutoff_date\").copy()\n",
    "users_train = set(events_train[\"user_id\"].unique())\n",
    "users_test = set(events_test[\"user_id\"].unique())\n",
    "common_users = set(users_train & users_test)\n",
    "print(len(users_train), len(users_test), len(common_users)) "
   ]
  },
  {
   "cell_type": "code",
   "execution_count": 5,
   "id": "4cb94a23-8d1d-4025-908f-f290013fa429",
   "metadata": {},
   "outputs": [
    {
     "name": "stdout",
     "output_type": "stream",
     "text": [
      "2365\n"
     ]
    }
   ],
   "source": [
    "# cold users\n",
    "cold_users = set(users_test - users_train)\n",
    "print(len(cold_users))"
   ]
  },
  {
   "cell_type": "code",
   "execution_count": 6,
   "id": "6f94990b-65c8-43cc-88da-ebe6a12163b4",
   "metadata": {},
   "outputs": [
    {
     "data": {
      "text/html": [
       "<div>\n",
       "<style scoped>\n",
       "    .dataframe tbody tr th:only-of-type {\n",
       "        vertical-align: middle;\n",
       "    }\n",
       "\n",
       "    .dataframe tbody tr th {\n",
       "        vertical-align: top;\n",
       "    }\n",
       "\n",
       "    .dataframe thead th {\n",
       "        text-align: right;\n",
       "    }\n",
       "</style>\n",
       "<table border=\"1\" class=\"dataframe\">\n",
       "  <thead>\n",
       "    <tr style=\"text-align: right;\">\n",
       "      <th></th>\n",
       "      <th>item_id</th>\n",
       "      <th>users</th>\n",
       "      <th>avg_rating</th>\n",
       "      <th>users_norm</th>\n",
       "      <th>avg_rating_norm</th>\n",
       "      <th>popularity_score</th>\n",
       "    </tr>\n",
       "  </thead>\n",
       "  <tbody>\n",
       "    <tr>\n",
       "      <th>32387</th>\n",
       "      <td>18007564</td>\n",
       "      <td>20207</td>\n",
       "      <td>4.321275</td>\n",
       "      <td>0.496596</td>\n",
       "      <td>0.830319</td>\n",
       "      <td>0.412333</td>\n",
       "    </tr>\n",
       "    <tr>\n",
       "      <th>32623</th>\n",
       "      <td>18143977</td>\n",
       "      <td>19462</td>\n",
       "      <td>4.290669</td>\n",
       "      <td>0.478287</td>\n",
       "      <td>0.822667</td>\n",
       "      <td>0.393471</td>\n",
       "    </tr>\n",
       "    <tr>\n",
       "      <th>2</th>\n",
       "      <td>3</td>\n",
       "      <td>15139</td>\n",
       "      <td>4.706057</td>\n",
       "      <td>0.372042</td>\n",
       "      <td>0.926514</td>\n",
       "      <td>0.344702</td>\n",
       "    </tr>\n",
       "    <tr>\n",
       "      <th>30695</th>\n",
       "      <td>16096824</td>\n",
       "      <td>16770</td>\n",
       "      <td>4.301014</td>\n",
       "      <td>0.412126</td>\n",
       "      <td>0.825253</td>\n",
       "      <td>0.340108</td>\n",
       "    </tr>\n",
       "    <tr>\n",
       "      <th>1916</th>\n",
       "      <td>15881</td>\n",
       "      <td>13043</td>\n",
       "      <td>4.632447</td>\n",
       "      <td>0.320529</td>\n",
       "      <td>0.908112</td>\n",
       "      <td>0.291076</td>\n",
       "    </tr>\n",
       "  </tbody>\n",
       "</table>\n",
       "</div>"
      ],
      "text/plain": [
       "        item_id  users  avg_rating  users_norm  avg_rating_norm  \\\n",
       "32387  18007564  20207    4.321275    0.496596         0.830319   \n",
       "32623  18143977  19462    4.290669    0.478287         0.822667   \n",
       "2             3  15139    4.706057    0.372042         0.926514   \n",
       "30695  16096824  16770    4.301014    0.412126         0.825253   \n",
       "1916      15881  13043    4.632447    0.320529         0.908112   \n",
       "\n",
       "       popularity_score  \n",
       "32387          0.412333  \n",
       "32623          0.393471  \n",
       "2              0.344702  \n",
       "30695          0.340108  \n",
       "1916           0.291076  "
      ]
     },
     "execution_count": 6,
     "metadata": {},
     "output_type": "execute_result"
    }
   ],
   "source": [
    "from sklearn.preprocessing import MinMaxScaler\n",
    "\n",
    "top_pop_start_date = pd.to_datetime(\"2015-01-01\").date()\n",
    "\n",
    "item_popularity = events_train \\\n",
    "    .query(\"started_at >= @top_pop_start_date\") \\\n",
    "    .groupby([\"item_id\"]).agg(users=(\"user_id\", \"nunique\"), avg_rating=(\"rating\", \"mean\")).reset_index()\n",
    "\n",
    "# нормализация пользователей и среднего рейтинга, требуется для их приведения к одному масштабу\n",
    "scaler = MinMaxScaler()\n",
    "item_popularity[[\"users_norm\", \"avg_rating_norm\"]] = scaler.fit_transform(\n",
    "    item_popularity[[\"users\", \"avg_rating\"]]\n",
    ")\n",
    "\n",
    "# вычисляем popularity_score, как скор популярности со штрафом за низкий рейтинг\n",
    "item_popularity[\"popularity_score\"] = (\n",
    "    item_popularity[\"users_norm\"] * item_popularity[\"avg_rating_norm\"]\n",
    ")\n",
    "\n",
    "# сортируем по убыванию popularity_score\n",
    "item_popularity = item_popularity.sort_values(\"popularity_score\", ascending=False)\n",
    "\n",
    "# выбираем первые 100 айтемов со средней оценкой avg_rating не меньше 4\n",
    "top_k_pop_items = item_popularity.query(\"avg_rating >= 4\").head(100)\n",
    "top_k_pop_items.head()"
   ]
  },
  {
   "cell_type": "code",
   "execution_count": 7,
   "id": "d579dd23",
   "metadata": {},
   "outputs": [
    {
     "data": {
      "text/html": [
       "<div>\n",
       "<style scoped>\n",
       "    .dataframe tbody tr th:only-of-type {\n",
       "        vertical-align: middle;\n",
       "    }\n",
       "\n",
       "    .dataframe tbody tr th {\n",
       "        vertical-align: top;\n",
       "    }\n",
       "\n",
       "    .dataframe thead th {\n",
       "        text-align: right;\n",
       "    }\n",
       "</style>\n",
       "<table border=\"1\" class=\"dataframe\">\n",
       "  <thead>\n",
       "    <tr style=\"text-align: right;\">\n",
       "      <th></th>\n",
       "      <th>item_id</th>\n",
       "      <th>author</th>\n",
       "      <th>title</th>\n",
       "      <th>publication_year</th>\n",
       "      <th>users</th>\n",
       "      <th>avg_rating</th>\n",
       "      <th>popularity_score</th>\n",
       "      <th>genre_and_votes</th>\n",
       "    </tr>\n",
       "  </thead>\n",
       "  <tbody>\n",
       "    <tr>\n",
       "      <th>0</th>\n",
       "      <td>18007564</td>\n",
       "      <td>Andy Weir</td>\n",
       "      <td>The Martian</td>\n",
       "      <td>2014</td>\n",
       "      <td>20207</td>\n",
       "      <td>4.321275</td>\n",
       "      <td>0.412333</td>\n",
       "      <td>{'Science Fiction': 11966, 'Fiction': 8430}</td>\n",
       "    </tr>\n",
       "    <tr>\n",
       "      <th>1</th>\n",
       "      <td>18143977</td>\n",
       "      <td>Anthony Doerr</td>\n",
       "      <td>All the Light We Cannot See</td>\n",
       "      <td>2014</td>\n",
       "      <td>19462</td>\n",
       "      <td>4.290669</td>\n",
       "      <td>0.393471</td>\n",
       "      <td>{'Historical-Historical Fiction': 13679, 'Fict...</td>\n",
       "    </tr>\n",
       "    <tr>\n",
       "      <th>2</th>\n",
       "      <td>3</td>\n",
       "      <td>J.K. Rowling, Mary GrandPré</td>\n",
       "      <td>Harry Potter and the Sorcerer's Stone (Harry P...</td>\n",
       "      <td>1997</td>\n",
       "      <td>15139</td>\n",
       "      <td>4.706057</td>\n",
       "      <td>0.344702</td>\n",
       "      <td>{'Fantasy': 59818, 'Fiction': 17918, 'Young Ad...</td>\n",
       "    </tr>\n",
       "    <tr>\n",
       "      <th>3</th>\n",
       "      <td>16096824</td>\n",
       "      <td>Sarah J. Maas</td>\n",
       "      <td>A Court of Thorns and Roses (A Court of Thorns...</td>\n",
       "      <td>2015</td>\n",
       "      <td>16770</td>\n",
       "      <td>4.301014</td>\n",
       "      <td>0.340108</td>\n",
       "      <td>{'Fantasy': 14326, 'Young Adult': 4662, 'Roman...</td>\n",
       "    </tr>\n",
       "    <tr>\n",
       "      <th>4</th>\n",
       "      <td>15881</td>\n",
       "      <td>J.K. Rowling, Mary GrandPré</td>\n",
       "      <td>Harry Potter and the Chamber of Secrets (Harry...</td>\n",
       "      <td>1999</td>\n",
       "      <td>13043</td>\n",
       "      <td>4.632447</td>\n",
       "      <td>0.291076</td>\n",
       "      <td>{'Fantasy': 50130, 'Young Adult': 15202, 'Fict...</td>\n",
       "    </tr>\n",
       "    <tr>\n",
       "      <th>...</th>\n",
       "      <td>...</td>\n",
       "      <td>...</td>\n",
       "      <td>...</td>\n",
       "      <td>...</td>\n",
       "      <td>...</td>\n",
       "      <td>...</td>\n",
       "      <td>...</td>\n",
       "      <td>...</td>\n",
       "    </tr>\n",
       "    <tr>\n",
       "      <th>95</th>\n",
       "      <td>8490112</td>\n",
       "      <td>Laini Taylor</td>\n",
       "      <td>Daughter of Smoke &amp; Bone (Daughter of Smoke &amp; ...</td>\n",
       "      <td>2011</td>\n",
       "      <td>4792</td>\n",
       "      <td>4.080968</td>\n",
       "      <td>0.090694</td>\n",
       "      <td>{'Fantasy': 11681, 'Young Adult': 7110, 'Roman...</td>\n",
       "    </tr>\n",
       "    <tr>\n",
       "      <th>96</th>\n",
       "      <td>18966819</td>\n",
       "      <td>Pierce Brown</td>\n",
       "      <td>Golden Son (Red Rising, #2)</td>\n",
       "      <td>2015</td>\n",
       "      <td>4361</td>\n",
       "      <td>4.374914</td>\n",
       "      <td>0.090409</td>\n",
       "      <td>{'Science Fiction': 2613, 'Fantasy': 1372, 'Sc...</td>\n",
       "    </tr>\n",
       "    <tr>\n",
       "      <th>97</th>\n",
       "      <td>3636</td>\n",
       "      <td>Lois Lowry</td>\n",
       "      <td>The Giver (The Giver, #1)</td>\n",
       "      <td>2006</td>\n",
       "      <td>4667</td>\n",
       "      <td>4.098564</td>\n",
       "      <td>0.088832</td>\n",
       "      <td>{'Young Adult': 10993, 'Fiction': 9045, 'Class...</td>\n",
       "    </tr>\n",
       "    <tr>\n",
       "      <th>98</th>\n",
       "      <td>18293427</td>\n",
       "      <td>Gabrielle Zevin</td>\n",
       "      <td>The Storied Life of A.J. Fikry</td>\n",
       "      <td>2014</td>\n",
       "      <td>4674</td>\n",
       "      <td>4.092640</td>\n",
       "      <td>0.088795</td>\n",
       "      <td>{'Fiction': 3795, 'Contemporary': 1100, 'Writi...</td>\n",
       "    </tr>\n",
       "    <tr>\n",
       "      <th>99</th>\n",
       "      <td>26252859</td>\n",
       "      <td>Rick Riordan</td>\n",
       "      <td>The Hidden Oracle (The Trials of Apollo, #1)</td>\n",
       "      <td>2016</td>\n",
       "      <td>4371</td>\n",
       "      <td>4.293068</td>\n",
       "      <td>0.088419</td>\n",
       "      <td>{'Fantasy': 3173, 'Fantasy-Mythology': 1514}</td>\n",
       "    </tr>\n",
       "  </tbody>\n",
       "</table>\n",
       "<p>100 rows × 8 columns</p>\n",
       "</div>"
      ],
      "text/plain": [
       "     item_id                       author  \\\n",
       "0   18007564                    Andy Weir   \n",
       "1   18143977                Anthony Doerr   \n",
       "2          3  J.K. Rowling, Mary GrandPré   \n",
       "3   16096824                Sarah J. Maas   \n",
       "4      15881  J.K. Rowling, Mary GrandPré   \n",
       "..       ...                          ...   \n",
       "95   8490112                 Laini Taylor   \n",
       "96  18966819                 Pierce Brown   \n",
       "97      3636                   Lois Lowry   \n",
       "98  18293427              Gabrielle Zevin   \n",
       "99  26252859                 Rick Riordan   \n",
       "\n",
       "                                                title  publication_year  \\\n",
       "0                                         The Martian              2014   \n",
       "1                         All the Light We Cannot See              2014   \n",
       "2   Harry Potter and the Sorcerer's Stone (Harry P...              1997   \n",
       "3   A Court of Thorns and Roses (A Court of Thorns...              2015   \n",
       "4   Harry Potter and the Chamber of Secrets (Harry...              1999   \n",
       "..                                                ...               ...   \n",
       "95  Daughter of Smoke & Bone (Daughter of Smoke & ...              2011   \n",
       "96                        Golden Son (Red Rising, #2)              2015   \n",
       "97                          The Giver (The Giver, #1)              2006   \n",
       "98                     The Storied Life of A.J. Fikry              2014   \n",
       "99       The Hidden Oracle (The Trials of Apollo, #1)              2016   \n",
       "\n",
       "    users  avg_rating  popularity_score  \\\n",
       "0   20207    4.321275          0.412333   \n",
       "1   19462    4.290669          0.393471   \n",
       "2   15139    4.706057          0.344702   \n",
       "3   16770    4.301014          0.340108   \n",
       "4   13043    4.632447          0.291076   \n",
       "..    ...         ...               ...   \n",
       "95   4792    4.080968          0.090694   \n",
       "96   4361    4.374914          0.090409   \n",
       "97   4667    4.098564          0.088832   \n",
       "98   4674    4.092640          0.088795   \n",
       "99   4371    4.293068          0.088419   \n",
       "\n",
       "                                      genre_and_votes  \n",
       "0         {'Science Fiction': 11966, 'Fiction': 8430}  \n",
       "1   {'Historical-Historical Fiction': 13679, 'Fict...  \n",
       "2   {'Fantasy': 59818, 'Fiction': 17918, 'Young Ad...  \n",
       "3   {'Fantasy': 14326, 'Young Adult': 4662, 'Roman...  \n",
       "4   {'Fantasy': 50130, 'Young Adult': 15202, 'Fict...  \n",
       "..                                                ...  \n",
       "95  {'Fantasy': 11681, 'Young Adult': 7110, 'Roman...  \n",
       "96  {'Science Fiction': 2613, 'Fantasy': 1372, 'Sc...  \n",
       "97  {'Young Adult': 10993, 'Fiction': 9045, 'Class...  \n",
       "98  {'Fiction': 3795, 'Contemporary': 1100, 'Writi...  \n",
       "99       {'Fantasy': 3173, 'Fantasy-Mythology': 1514}  \n",
       "\n",
       "[100 rows x 8 columns]"
      ]
     },
     "metadata": {},
     "output_type": "display_data"
    }
   ],
   "source": [
    "# добавляем информацию о книгах\n",
    "top_k_pop_items = top_k_pop_items.merge(\n",
    "    items.set_index(\"item_id\")[[\"author\", \"title\", \"genre_and_votes\", \"publication_year\"]], on=\"item_id\")\n",
    "\n",
    "with pd.option_context('display.max_rows', 10):\n",
    "    display(top_k_pop_items[[\"item_id\", \"author\", \"title\", \"publication_year\", \"users\", \"avg_rating\", \"popularity_score\", \"genre_and_votes\"]])"
   ]
  },
  {
   "cell_type": "code",
   "execution_count": 8,
   "id": "f7d6a9c0",
   "metadata": {},
   "outputs": [
    {
     "name": "stdout",
     "output_type": "stream",
     "text": [
      "0.19768403639371382\n"
     ]
    }
   ],
   "source": [
    "cold_users_events_with_recs = \\\n",
    "    events_test[events_test[\"user_id\"].isin(cold_users)] \\\n",
    "    .merge(top_k_pop_items, on=\"item_id\", how=\"left\")\n",
    "\n",
    "cold_user_items_no_avg_rating_idx = cold_users_events_with_recs[\"avg_rating\"].isnull()\n",
    "cold_user_recs = cold_users_events_with_recs[~cold_user_items_no_avg_rating_idx] \\\n",
    "    [[\"user_id\", \"item_id\", \"rating\", \"avg_rating\"]]\n",
    "print(len(cold_user_recs) /  len(cold_users_events_with_recs))"
   ]
  },
  {
   "cell_type": "code",
   "execution_count": 9,
   "id": "988b4377",
   "metadata": {},
   "outputs": [
    {
     "name": "stdout",
     "output_type": "stream",
     "text": [
      "0.78 0.62\n"
     ]
    }
   ],
   "source": [
    "\n",
    "from sklearn.metrics import mean_absolute_error, root_mean_squared_error\n",
    "\n",
    "\n",
    "rmse = root_mean_squared_error(cold_user_recs[\"rating\"], cold_user_recs[\"avg_rating\"])\n",
    "mae = mean_absolute_error(cold_user_recs[\"rating\"], cold_user_recs[\"avg_rating\"])\n",
    "print(round(rmse, 2), round(mae, 2)) "
   ]
  },
  {
   "cell_type": "code",
   "execution_count": 10,
   "id": "c73b6d69",
   "metadata": {},
   "outputs": [
    {
     "name": "stdout",
     "output_type": "stream",
     "text": [
      "Доля пользователей без релевантных рекомендаций: 0.59\n",
      "Среднее покрытие пользователей: 0.44\n"
     ]
    }
   ],
   "source": [
    "# посчитаем покрытие холодных пользователей рекомендациями\n",
    "\n",
    "cold_users_hit_ratio = cold_users_events_with_recs.groupby(\"user_id\").agg(hits=(\"avg_rating\", lambda x: (~x.isnull()).mean()))\n",
    "\n",
    "print(f\"Доля пользователей без релевантных рекомендаций: {(cold_users_hit_ratio == 0).mean().iat[0]:.2f}\")\n",
    "print(f\"Среднее покрытие пользователей: {cold_users_hit_ratio[cold_users_hit_ratio != 0].mean().iat[0]:.2f}\")"
   ]
  },
  {
   "cell_type": "markdown",
   "id": "65ef157d-dd5a-4882-8208-40cd9cdfebfc",
   "metadata": {},
   "source": [
    "# === Знакомство: первые персональные рекомендации"
   ]
  },
  {
   "cell_type": "code",
   "execution_count": null,
   "id": "b687dc99-9aee-472f-9730-d5f17df99c7e",
   "metadata": {},
   "outputs": [],
   "source": []
  },
  {
   "cell_type": "code",
   "execution_count": null,
   "id": "bc62fbc2-36de-4ccb-bd2f-33594eafa2ff",
   "metadata": {},
   "outputs": [],
   "source": []
  },
  {
   "cell_type": "code",
   "execution_count": null,
   "id": "4e804e6f-3348-407c-aa3c-fc50b6045d8d",
   "metadata": {},
   "outputs": [],
   "source": []
  },
  {
   "cell_type": "markdown",
   "id": "3817eb52-1161-4e4e-a263-0cb616794a8e",
   "metadata": {},
   "source": [
    "# === Базовые подходы: коллаборативная фильтрация"
   ]
  },
  {
   "cell_type": "code",
   "execution_count": null,
   "id": "21789993-d0cd-4e74-96af-b3966d0f44c3",
   "metadata": {},
   "outputs": [],
   "source": []
  },
  {
   "cell_type": "code",
   "execution_count": null,
   "id": "9a96f98d-0270-4a06-9063-a687dbffeca5",
   "metadata": {},
   "outputs": [],
   "source": []
  },
  {
   "cell_type": "code",
   "execution_count": null,
   "id": "be389837-995e-4e57-928b-77293b7f1106",
   "metadata": {},
   "outputs": [],
   "source": []
  },
  {
   "cell_type": "markdown",
   "id": "62575f67-f46e-4747-b3de-6ff5a87d0eba",
   "metadata": {},
   "source": [
    "# === Базовые подходы: контентные рекомендации"
   ]
  },
  {
   "cell_type": "code",
   "execution_count": null,
   "id": "5ae7f494-3ee9-4f49-a61b-9dfb411518bd",
   "metadata": {},
   "outputs": [],
   "source": []
  },
  {
   "cell_type": "code",
   "execution_count": null,
   "id": "5f655832-4caa-4290-9b34-388e7b3f5d37",
   "metadata": {},
   "outputs": [],
   "source": []
  },
  {
   "cell_type": "code",
   "execution_count": null,
   "id": "d8f945a6-bd08-4f17-84a3-4a82e00a29c6",
   "metadata": {},
   "outputs": [],
   "source": []
  },
  {
   "cell_type": "markdown",
   "id": "dfdeb7c3-0935-4bee-8b93-dfe26091289b",
   "metadata": {},
   "source": [
    "# === Базовые подходы: валидация"
   ]
  },
  {
   "cell_type": "code",
   "execution_count": null,
   "id": "05850eab-168a-4338-8692-cd1a8fefb685",
   "metadata": {},
   "outputs": [],
   "source": []
  },
  {
   "cell_type": "code",
   "execution_count": null,
   "id": "28f429e6-b9da-4231-afba-25dd8e606a23",
   "metadata": {},
   "outputs": [],
   "source": []
  },
  {
   "cell_type": "code",
   "execution_count": null,
   "id": "b4e4509b-6289-4ad6-a767-cbb2ace791ee",
   "metadata": {},
   "outputs": [],
   "source": []
  },
  {
   "cell_type": "markdown",
   "id": "f78475fc-bee1-48f4-be55-329db8ecd326",
   "metadata": {},
   "source": [
    "# === Двухстадийный подход: метрики"
   ]
  },
  {
   "cell_type": "code",
   "execution_count": null,
   "id": "2a4cf639-1afa-4e89-8ba5-eee48a1bd0e1",
   "metadata": {},
   "outputs": [],
   "source": []
  },
  {
   "cell_type": "code",
   "execution_count": null,
   "id": "48e4d676-ede1-4725-8e31-457ebc0452da",
   "metadata": {},
   "outputs": [],
   "source": []
  },
  {
   "cell_type": "code",
   "execution_count": null,
   "id": "d99db2ab-231d-4cf8-8221-5e00e9e6e4c0",
   "metadata": {},
   "outputs": [],
   "source": []
  },
  {
   "cell_type": "markdown",
   "id": "4fbae6b6-b1e2-4bbf-b1ad-227f2916917f",
   "metadata": {},
   "source": [
    "# === Двухстадийный подход: модель"
   ]
  },
  {
   "cell_type": "code",
   "execution_count": null,
   "id": "2ef764d6-f2cc-4e72-bd7f-81a69dd7380d",
   "metadata": {},
   "outputs": [],
   "source": []
  },
  {
   "cell_type": "code",
   "execution_count": null,
   "id": "9dcc8048-f4b5-411f-913a-fd73c6a6ff2a",
   "metadata": {},
   "outputs": [],
   "source": []
  },
  {
   "cell_type": "code",
   "execution_count": null,
   "id": "dd6c82df-981f-441a-8dc2-c7b06ab2b6f7",
   "metadata": {},
   "outputs": [],
   "source": []
  },
  {
   "cell_type": "markdown",
   "id": "29b6ebd5-38a3-4f8e-8941-2f91fa70ca4e",
   "metadata": {},
   "source": [
    "# === Двухстадийный подход: построение признаков"
   ]
  },
  {
   "cell_type": "code",
   "execution_count": null,
   "id": "8788cba9-0396-46a2-b2af-1ecbd65b944e",
   "metadata": {},
   "outputs": [],
   "source": []
  },
  {
   "cell_type": "code",
   "execution_count": null,
   "id": "27aed9a2-88d9-4375-b0b0-7333aea7b1e0",
   "metadata": {},
   "outputs": [],
   "source": []
  },
  {
   "cell_type": "code",
   "execution_count": null,
   "id": "344f7f13-e43e-490c-a816-43d25c5a4a5f",
   "metadata": {},
   "outputs": [],
   "source": []
  }
 ],
 "metadata": {
  "kernelspec": {
   "display_name": ".venv",
   "language": "python",
   "name": "python3"
  },
  "language_info": {
   "codemirror_mode": {
    "name": "ipython",
    "version": 3
   },
   "file_extension": ".py",
   "mimetype": "text/x-python",
   "name": "python",
   "nbconvert_exporter": "python",
   "pygments_lexer": "ipython3",
   "version": "3.10.0"
  }
 },
 "nbformat": 4,
 "nbformat_minor": 5
}
